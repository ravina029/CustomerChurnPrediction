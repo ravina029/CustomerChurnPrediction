{
 "cells": [
  {
   "cell_type": "code",
   "execution_count": 1,
   "metadata": {},
   "outputs": [],
   "source": [
    "import os "
   ]
  },
  {
   "cell_type": "code",
   "execution_count": 2,
   "metadata": {},
   "outputs": [
    {
     "data": {
      "text/plain": [
       "'/Users/ravina/Desktop/CustomerChurnPrediction/research'"
      ]
     },
     "execution_count": 2,
     "metadata": {},
     "output_type": "execute_result"
    }
   ],
   "source": [
    "%pwd"
   ]
  },
  {
   "cell_type": "code",
   "execution_count": 3,
   "metadata": {},
   "outputs": [],
   "source": [
    "os.chdir('../')"
   ]
  },
  {
   "cell_type": "code",
   "execution_count": 4,
   "metadata": {},
   "outputs": [
    {
     "data": {
      "text/plain": [
       "'/Users/ravina/Desktop/CustomerChurnPrediction'"
      ]
     },
     "execution_count": 4,
     "metadata": {},
     "output_type": "execute_result"
    }
   ],
   "source": [
    "%pwd"
   ]
  },
  {
   "cell_type": "code",
   "execution_count": 5,
   "metadata": {},
   "outputs": [],
   "source": [
    "import mlflow\n",
    "\n",
    "mlflow.set_tracking_uri(\"https://dagshub.com/ravina029/CustomerChurnPrediction.mlflow\")\n"
   ]
  },
  {
   "cell_type": "code",
   "execution_count": 6,
   "metadata": {},
   "outputs": [],
   "source": [
    "os.environ[\"MLFLOW_TRACKING_URI\"]='https://dagshub.com/ravina029/CustomerChurnPrediction.mlflow'\n",
    "os.environ[\"MLFLOW_TRACKING_USERNAME\"]='ravina029'\n",
    "os.environ[\"MLFLOW_TRACKING_PASSWORD\"]='221d4e3a527ff8b9aef06e059d7efc4e89963e11'\n"
   ]
  },
  {
   "cell_type": "code",
   "execution_count": 7,
   "metadata": {},
   "outputs": [],
   "source": [
    "#Entity of model evaluation\n",
    "from dataclasses import dataclass \n",
    "from pathlib import Path\n",
    "\n",
    "@dataclass(frozen=True)  #this is not python class but dataclass, here you can define the veriables without using self keyword.\n",
    "class ModelEvaluationConfig:\n",
    "    root_dir:Path\n",
    "    test_data_path: Path\n",
    "    model_path: Path\n",
    "    all_params: dict\n",
    "    metric_file_name:Path\n",
    "    target_column: str\n",
    "    mlflow_uri: str\n",
    "    "
   ]
  },
  {
   "cell_type": "code",
   "execution_count": 8,
   "metadata": {},
   "outputs": [],
   "source": [
    "from CustomerChurnPrediction.constants import *\n",
    "from CustomerChurnPrediction.utils.common import read_yaml,create_directories, save_json\n"
   ]
  },
  {
   "cell_type": "code",
   "execution_count": 9,
   "metadata": {},
   "outputs": [],
   "source": [
    "class ConfigurationManager:\n",
    "    def __init__(\n",
    "        self,\n",
    "        config_filepath = CONFIG_FILE_PATH,\n",
    "        params_filepath = PARAMS_FILE_PATH,\n",
    "        schema_filepath = SCHEMA_FILE_PATH):\n",
    "\n",
    "        self.config = read_yaml(config_filepath)\n",
    "        self.params = read_yaml(params_filepath)\n",
    "        self.schema = read_yaml(schema_filepath)\n",
    "\n",
    "        create_directories([self.config.artifacts_root])\n",
    "    \n",
    "\n",
    "    def get_model_evaluation_config(self)-> ModelEvaluationConfig:\n",
    "        config=self.config.model_evaluation\n",
    "        params=self.params.RandomForestClassifier\n",
    "        #params=self.params.XGBClassifier\n",
    "        schema=self.schema.TARGET_COLUMN\n",
    "\n",
    "        create_directories([config.root_dir])\n",
    "\n",
    "        model_evaluation_config=ModelEvaluationConfig(\n",
    "            root_dir=config.root_dir,\n",
    "            test_data_path=config.test_data_path,\n",
    "            model_path=config.model_path,\n",
    "            all_params=params,\n",
    "            metric_file_name=config.metric_file_name,\n",
    "            target_column=schema.name,\n",
    "            mlflow_uri= \"https://dagshub.com/ravina029/CustomerChurnPrediction.mlflow\"\n",
    "            )\n",
    "\n",
    "        return model_evaluation_config"
   ]
  },
  {
   "cell_type": "code",
   "execution_count": 10,
   "metadata": {},
   "outputs": [],
   "source": [
    "#components\n",
    "\n",
    "import pandas as pd\n",
    "from sklearn.metrics import accuracy_score, confusion_matrix, precision_score, recall_score, roc_auc_score,f1_score\n",
    "from urllib.parse import urlparse\n",
    "from sklearn.utils.validation import check_X_y\n",
    "#from sklearn.utils.multiclass import type_of_target\n",
    "import mlflow\n",
    "import mlflow.sklearn\n",
    "import numpy as np\n",
    "import joblib\n",
    "\n"
   ]
  },
  {
   "cell_type": "code",
   "execution_count": 11,
   "metadata": {},
   "outputs": [],
   "source": [
    "class ModelEvaluation:\n",
    "    def __init__(self,config:ModelEvaluationConfig):\n",
    "        self.config=config\n",
    "        \n",
    "\n",
    "    def eval_metrics(self,actual,pred):\n",
    "            accuracy = accuracy_score(actual, pred)\n",
    "            precision = precision_score(actual, pred)\n",
    "            recall = recall_score(actual, pred)\n",
    "            roc_auc = roc_auc_score(actual, pred)\n",
    "            f_Score=f1_score(actual,pred)\n",
    "            return accuracy,precision,recall,roc_auc,f_Score\n",
    "        \n",
    "\n",
    "    def log_into_mlflow(self):\n",
    "            test_data=pd.read_csv(self.config.test_data_path)\n",
    "            model=joblib.load(self.config.model_path)\n",
    "\n",
    "            test_x=test_data.drop([self.config.target_column],axis=1)\n",
    "            test_y=test_data[[self.config.target_column]]\n",
    "\n",
    "            print(\"shape of test dataset\",test_x.shape,test_y.shape)\n",
    "            print(\"columns of test_x are\",test_x.columns)\n",
    "            \n",
    "            \n",
    "            \n",
    "\n",
    "\n",
    "            mlflow.set_registry_uri(self.config.mlflow_uri)\n",
    "            tracking_url_type_score=urlparse(mlflow.get_tracking_uri()).scheme\n",
    "\n",
    "            with mlflow.start_run():\n",
    "                predicted_qualities=model.predict(test_x)\n",
    "                #y_prob = model.predict_proba(test_x)[:, 1]\n",
    "                #roc_auc = roc_auc_score(test_y, y_prob) #as our data is highly imbalanced, therefore using this method using y_prob.\n",
    "                (accuracy,precision,recall,roc_auc,f_Score)=self.eval_metrics(test_y,predicted_qualities)\n",
    "                \n",
    "                #saving metrics as local\n",
    "                scores = {\"accuracy\": accuracy, \"precision_score\": precision, \"Recall_score\": recall, \"Roc_Auc_score\": roc_auc,\"f1_score\":f_Score}\n",
    "                print(scores)\n",
    "                save_json(path=Path(self.config.metric_file_name), data=scores)\n",
    "                mlflow.log_params(self.config.all_params)\n",
    "\n",
    "                \n",
    "                mlflow.log_metric(\"accuracy\", accuracy)\n",
    "                mlflow.log_metric(\"precision_score\", precision)\n",
    "                mlflow.log_metric(\"Recall_score\", recall)\n",
    "                mlflow.log_metric(\"Roc_Auc_score\",roc_auc)\n",
    "                \n",
    "\n",
    "                #Model registry doesn't work with file store\n",
    "                if tracking_url_type_score!='file':\n",
    "                    #Regitster the model\n",
    "                    #There are other ways to use the Model registry, which depends on the use case,\n",
    "                    #please refer to the doc for more information:params=self.params.XGBClassifier\n",
    "                    #https://mlflow.org/docs/latest/models.html\n",
    "                    mlflow.sklearn.log_model(model,\"model\", registered_model_name='RandomForestClassifier')\n",
    "                    #mlflow.sklearn.log_model(model,\"model\", registered_model_name='XGBClassifier')\n",
    "                    \n",
    "                else:\n",
    "                    mlflow.sklearn.log_model(model,'model') \n",
    "\n"
   ]
  },
  {
   "cell_type": "code",
   "execution_count": 12,
   "metadata": {},
   "outputs": [
    {
     "name": "stdout",
     "output_type": "stream",
     "text": [
      "[2024-04-30 14:27:42,572:INFO:yaml file:config/config.yaml loaded successfully]\n",
      "[2024-04-30 14:27:42,574:INFO:yaml file:params.yaml loaded successfully]\n",
      "[2024-04-30 14:27:42,576:INFO:yaml file:Schema.yaml loaded successfully]\n",
      "[2024-04-30 14:27:42,576:INFO:created directory at:artifacts]\n",
      "[2024-04-30 14:27:42,577:INFO:created directory at:artifacts/model_evaluation]\n",
      "shape of test dataset (3000, 11) (3000, 1)\n",
      "columns of test_x are Index(['CreditScore', 'Age', 'Tenure', 'Balance', 'EstimatedSalary',\n",
      "       'Geography', 'Gender', 'NumOfProducts', 'IsActiveMember',\n",
      "       'sufficient_balance', 'is_CreditScore_low'],\n",
      "      dtype='object')\n",
      "{'accuracy': 0.8246666666666667, 'precision_score': 0.5548387096774193, 'Recall_score': 0.7037643207855974, 'Roc_Auc_score': 0.7796762164832132, 'f1_score': 0.6204906204906205}\n",
      "[2024-04-30 14:27:44,341:INFO:json file saved at:artifacts/model_evaluation/metrics.json]\n"
     ]
    },
    {
     "name": "stderr",
     "output_type": "stream",
     "text": [
      "/Users/ravina/Desktop/CustomerChurnPrediction/churnvenv/lib/python3.10/site-packages/sklearn/base.py:486: UserWarning: X has feature names, but RandomForestClassifier was fitted without feature names\n",
      "  warnings.warn(\n",
      "/Users/ravina/Desktop/CustomerChurnPrediction/churnvenv/lib/python3.10/site-packages/_distutils_hack/__init__.py:33: UserWarning: Setuptools is replacing distutils.\n",
      "  warnings.warn(\"Setuptools is replacing distutils.\")\n",
      "Registered model 'RandomForestClassifier' already exists. Creating a new version of this model...\n",
      "2024/04/30 14:28:21 INFO mlflow.tracking._model_registry.client: Waiting up to 300 seconds for model version to finish creation.                     Model name: RandomForestClassifier, version 15\n",
      "Created version '15' of model 'RandomForestClassifier'.\n"
     ]
    }
   ],
   "source": [
    "try:\n",
    "    config = ConfigurationManager()\n",
    "    model_evaluation_config = config.get_model_evaluation_config()\n",
    "    model_evaluation_config = ModelEvaluation(config=model_evaluation_config)\n",
    "    model_evaluation_config.log_into_mlflow()\n",
    "except Exception as e:\n",
    "    raise e\n"
   ]
  },
  {
   "cell_type": "code",
   "execution_count": null,
   "metadata": {},
   "outputs": [],
   "source": []
  }
 ],
 "metadata": {
  "kernelspec": {
   "display_name": "Python 3",
   "language": "python",
   "name": "python3"
  },
  "language_info": {
   "codemirror_mode": {
    "name": "ipython",
    "version": 3
   },
   "file_extension": ".py",
   "mimetype": "text/x-python",
   "name": "python",
   "nbconvert_exporter": "python",
   "pygments_lexer": "ipython3",
   "version": "3.10.0"
  }
 },
 "nbformat": 4,
 "nbformat_minor": 2
}
