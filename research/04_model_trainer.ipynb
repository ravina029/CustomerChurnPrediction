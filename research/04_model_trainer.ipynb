{
 "cells": [
  {
   "cell_type": "code",
   "execution_count": 1,
   "metadata": {},
   "outputs": [],
   "source": [
    "import os"
   ]
  },
  {
   "cell_type": "code",
   "execution_count": 2,
   "metadata": {},
   "outputs": [
    {
     "data": {
      "text/plain": [
       "'/Users/ravina/Desktop/CustomerChurnPrediction/research'"
      ]
     },
     "execution_count": 2,
     "metadata": {},
     "output_type": "execute_result"
    }
   ],
   "source": [
    "%pwd"
   ]
  },
  {
   "cell_type": "code",
   "execution_count": 3,
   "metadata": {},
   "outputs": [],
   "source": [
    "os.chdir('../')"
   ]
  },
  {
   "cell_type": "code",
   "execution_count": 4,
   "metadata": {},
   "outputs": [
    {
     "data": {
      "text/plain": [
       "'/Users/ravina/Desktop/CustomerChurnPrediction'"
      ]
     },
     "execution_count": 4,
     "metadata": {},
     "output_type": "execute_result"
    }
   ],
   "source": [
    "%pwd"
   ]
  },
  {
   "cell_type": "code",
   "execution_count": 5,
   "metadata": {},
   "outputs": [],
   "source": [
    "from dataclasses import dataclass \n",
    "from pathlib import Path\n",
    "\n",
    "@dataclass(frozen=True)  #this is not python class but dataclass, here you can define the veriables without using self keyword.\n",
    "class ModelTrainerConfig:\n",
    "    root_dir:Path\n",
    "    train_data_path: Path\n",
    "    test_data_path: Path\n",
    "    model_name: str\n",
    "    n_estimators: int\n",
    "    min_samples_split: int\n",
    "    max_depth: int\n",
    "    criterion: str\n",
    "    random_state: int\n",
    "    target_column: str\n",
    "    #n_estimators=100, random_state=42\n",
    "    "
   ]
  },
  {
   "cell_type": "code",
   "execution_count": 6,
   "metadata": {},
   "outputs": [],
   "source": [
    "from CustomerChurnPrediction.constants import *\n",
    "from CustomerChurnPrediction.utils.common import read_yaml,create_directories"
   ]
  },
  {
   "cell_type": "code",
   "execution_count": 7,
   "metadata": {},
   "outputs": [],
   "source": [
    "class ConfigurationManager:\n",
    "    def __init__(\n",
    "        self,\n",
    "        config_filepath = CONFIG_FILE_PATH,\n",
    "        params_filepath = PARAMS_FILE_PATH,\n",
    "        schema_filepath = SCHEMA_FILE_PATH):\n",
    "\n",
    "        self.config = read_yaml(config_filepath)\n",
    "        self.params = read_yaml(params_filepath)\n",
    "        self.schema = read_yaml(schema_filepath)\n",
    "\n",
    "        create_directories([self.config.artifacts_root])\n",
    "        \n",
    "    def get_model_trainer_config(self)-> ModelTrainerConfig:\n",
    "        config=self.config.model_trainer\n",
    "        params=self.params.RandomForestClassifier\n",
    "        #params=self.params.XGBClassifier\n",
    "        schema=self.schema.TARGET_COLUMN\n",
    "\n",
    "        create_directories([config.root_dir])\n",
    "\n",
    "        model_trainer_config=ModelTrainerConfig(\n",
    "            root_dir=config.root_dir,\n",
    "            train_data_path=config.train_data_path,\n",
    "            test_data_path=config.test_data_path,\n",
    "            model_name=config.model_name,\n",
    "            n_estimators=params.n_estimators,\n",
    "            min_samples_split=params.min_samples_split,\n",
    "            max_depth=params.max_depth,\n",
    "            criterion=params.criterion,\n",
    "            random_state=params.random_state,\n",
    "            target_column=schema.name\n",
    "    \n",
    "        )\n",
    "\n",
    "        return model_trainer_config\n",
    "    #'min_samples_split', 'max_depth', and 'criterion'"
   ]
  },
  {
   "cell_type": "code",
   "execution_count": 8,
   "metadata": {},
   "outputs": [],
   "source": [
    "import pandas as pd\n",
    "import os\n",
    "from CustomerChurnPrediction import logger\n",
    "from sklearn.ensemble import RandomForestClassifier\n",
    "from xgboost import XGBClassifier\n",
    "from sklearn.utils.validation import check_X_y\n",
    "from sklearn.utils.multiclass import type_of_target\n",
    "import joblib #we can also use pickle to save the model here, but joblib is better than pickle."
   ]
  },
  {
   "cell_type": "code",
   "execution_count": 9,
   "metadata": {},
   "outputs": [],
   "source": [
    "class ModelTrainer:\n",
    "    def __init__(self,config: ModelTrainerConfig):\n",
    "        self.config=config\n",
    "    \n",
    "    def train(self):\n",
    "        train_data=pd.read_csv(self.config.train_data_path)\n",
    "        test_data=pd.read_csv(self.config.test_data_path)\n",
    "\n",
    "        train_x=train_data.drop([self.config.target_column],axis=1)\n",
    "        test_x=test_data.drop([self.config.target_column],axis=1)\n",
    "        train_y=train_data[[self.config.target_column]]\n",
    "        test_y=test_data[[self.config.target_column]]\n",
    "        print(\"shape of train_x is:\",train_x)\n",
    "\n",
    "        train_x, train_y = check_X_y(train_x, train_y.values.ravel(), multi_output=True)\n",
    "        test_x, test_y = check_X_y(test_x, test_y.values.ravel(), multi_output=True)\n",
    "\n",
    "        # Check the type of target variable (classification or regression)\n",
    "        target_type = type_of_target(train_y)\n",
    "        if target_type not in ['binary', 'multiclass']:\n",
    "            raise ValueError(f\"Unsupported target variable type: {target_type}. Model supports binary or multiclass classification.\")\n",
    "\n",
    "\n",
    "        #lr=ElasticNet(alpha=self.config.alpha,l1_ratio=self.config.l1_ratio,random_state=32)\n",
    "        rfc=RandomForestClassifier(n_estimators=self.config.n_estimators,min_samples_split = self.config.min_samples_split,max_depth= self.config.max_depth, criterion = self.config.criterion,  random_state=self.config.random_state)\n",
    "        rfc.fit(train_x,train_y)\n",
    "        joblib.dump(rfc,os.path.join(self.config.root_dir,self.config.model_name))\n",
    "        \"\"\"\n",
    "        xgb = XGBClassifier(\n",
    "        subsample=0.7,\n",
    "        reg_lambda=0.5,\n",
    "        reg_alpha=0.3,\n",
    "        n_estimators=self.config.n_estimators,\n",
    "        min_child_weight=5,\n",
    "        max_depth=6,\n",
    "        learning_rate=0.1,\n",
    "        gamma=0.5,\n",
    "        colsample_bytree=0.1,\n",
    "        random_state=self.config.random_state\n",
    "            )\n",
    "        xgb.fit(train_x,train_y)\n",
    "        joblib.dump(xgb,os.path.join(self.config.root_dir,self.config.model_name))\n",
    "\n",
    "\n",
    "        \"\"\"\n",
    "        \n",
    "\n"
   ]
  },
  {
   "cell_type": "code",
   "execution_count": 10,
   "metadata": {},
   "outputs": [
    {
     "name": "stdout",
     "output_type": "stream",
     "text": [
      "[2024-04-21 19:49:46,598:INFO:yaml file:config/config.yaml loaded successfully]\n",
      "[2024-04-21 19:49:46,601:INFO:yaml file:params.yaml loaded successfully]\n",
      "[2024-04-21 19:49:46,604:INFO:yaml file:Schema.yaml loaded successfully]\n",
      "[2024-04-21 19:49:46,604:INFO:created directory at:artifacts]\n",
      "[2024-04-21 19:49:46,605:INFO:created directory at:artifacts/model_trainer]\n",
      "shape of train_x is:        CreditScore       Age    Tenure   Balance  EstimatedSalary  Geography  \\\n",
      "0        -0.138179  0.260825 -0.890057  0.489133        -1.010560          1   \n",
      "1        -0.812520 -0.282875 -0.350204  1.216528         0.487473          2   \n",
      "2        -0.419342 -1.426110  1.032908 -1.225848         1.146645          0   \n",
      "3        -1.441449  0.169917 -1.199920  0.678867         1.405501          0   \n",
      "4         0.046263 -1.281586  1.724464 -1.225848        -0.842833          0   \n",
      "...            ...       ...       ...       ...              ...        ...   \n",
      "12734     0.444615 -0.130923 -1.041760  1.330258        -0.024149          0   \n",
      "12735    -0.309507 -0.706178 -1.094955  1.289357         0.642749          0   \n",
      "12736     2.063884 -0.173993 -0.695982 -1.225848         1.650961          0   \n",
      "12737    -1.029802  1.401343 -0.004426  0.424849         1.331822          1   \n",
      "12738     0.035916 -1.142135  0.687130 -1.225848         0.890771          0   \n",
      "\n",
      "       Gender  NumOfProducts  IsActiveMember  sufficient_balance  \\\n",
      "0           1              0               0                   1   \n",
      "1           1              0               0                   1   \n",
      "2           1              1               0                   0   \n",
      "3           1              0               0                   0   \n",
      "4           1              1               0                   0   \n",
      "...       ...            ...             ...                 ...   \n",
      "12734       0              0               0                   1   \n",
      "12735       0              2               0                   1   \n",
      "12736       1              1               0                   0   \n",
      "12737       1              0               0                   0   \n",
      "12738       0              1               0                   0   \n",
      "\n",
      "       is_CreditScore_low  \n",
      "0                       0  \n",
      "1                       0  \n",
      "2                       0  \n",
      "3                       0  \n",
      "4                       0  \n",
      "...                   ...  \n",
      "12734                   0  \n",
      "12735                   0  \n",
      "12736                   0  \n",
      "12737                   0  \n",
      "12738                   0  \n",
      "\n",
      "[12739 rows x 11 columns]\n"
     ]
    }
   ],
   "source": [
    "try: \n",
    "    config=ConfigurationManager()\n",
    "    model_trainer_config=config.get_model_trainer_config()\n",
    "    model_trainer_config=ModelTrainer(config=model_trainer_config)\n",
    "    model_trainer_config.train()\n",
    "except Exception as e:\n",
    "    raise e"
   ]
  },
  {
   "cell_type": "code",
   "execution_count": null,
   "metadata": {},
   "outputs": [],
   "source": []
  }
 ],
 "metadata": {
  "kernelspec": {
   "display_name": "Python 3",
   "language": "python",
   "name": "python3"
  },
  "language_info": {
   "codemirror_mode": {
    "name": "ipython",
    "version": 3
   },
   "file_extension": ".py",
   "mimetype": "text/x-python",
   "name": "python",
   "nbconvert_exporter": "python",
   "pygments_lexer": "ipython3",
   "version": "3.10.0"
  }
 },
 "nbformat": 4,
 "nbformat_minor": 2
}
