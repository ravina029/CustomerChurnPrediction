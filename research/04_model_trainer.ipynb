{
 "cells": [
  {
   "cell_type": "code",
   "execution_count": 2,
   "metadata": {},
   "outputs": [],
   "source": [
    "import os"
   ]
  },
  {
   "cell_type": "code",
   "execution_count": 3,
   "metadata": {},
   "outputs": [
    {
     "data": {
      "text/plain": [
       "'/Users/ravina/Desktop/CustomerChurnPrediction/research'"
      ]
     },
     "execution_count": 3,
     "metadata": {},
     "output_type": "execute_result"
    }
   ],
   "source": [
    "%pwd"
   ]
  },
  {
   "cell_type": "code",
   "execution_count": 4,
   "metadata": {},
   "outputs": [],
   "source": [
    "os.chdir('../')"
   ]
  },
  {
   "cell_type": "code",
   "execution_count": 5,
   "metadata": {},
   "outputs": [
    {
     "data": {
      "text/plain": [
       "'/Users/ravina/Desktop/CustomerChurnPrediction'"
      ]
     },
     "execution_count": 5,
     "metadata": {},
     "output_type": "execute_result"
    }
   ],
   "source": [
    "%pwd"
   ]
  },
  {
   "cell_type": "code",
   "execution_count": 6,
   "metadata": {},
   "outputs": [],
   "source": [
    "from dataclasses import dataclass \n",
    "from pathlib import Path\n",
    "\n",
    "@dataclass(frozen=True)  #this is not python class but dataclass, here you can define the veriables without using self keyword.\n",
    "class ModelTrainerConfig:\n",
    "    root_dir:Path\n",
    "    train_data_path: Path\n",
    "    test_data_path: Path\n",
    "    model_name: str\n",
    "    n_estimators: int\n",
    "    random_state: int\n",
    "    target_column: str\n",
    "    #n_estimators=100, random_state=42"
   ]
  },
  {
   "cell_type": "code",
   "execution_count": 7,
   "metadata": {},
   "outputs": [],
   "source": [
    "from CustomerChurnPrediction.constants import *\n",
    "from CustomerChurnPrediction.utils.common import read_yaml,create_directories"
   ]
  },
  {
   "cell_type": "code",
   "execution_count": 8,
   "metadata": {},
   "outputs": [],
   "source": [
    "class ConfigurationManager:\n",
    "    def __init__(\n",
    "        self,\n",
    "        config_filepath = CONFIG_FILE_PATH,\n",
    "        params_filepath = PARAMS_FILE_PATH,\n",
    "        schema_filepath = SCHEMA_FILE_PATH):\n",
    "\n",
    "        self.config = read_yaml(config_filepath)\n",
    "        self.params = read_yaml(params_filepath)\n",
    "        self.schema = read_yaml(schema_filepath)\n",
    "\n",
    "        create_directories([self.config.artifacts_root])\n",
    "        \n",
    "    def get_model_trainer_config(self)-> ModelTrainerConfig:\n",
    "        config=self.config.model_trainer\n",
    "        params=self.params.RandomForestClassifier\n",
    "        schema=self.schema.TARGET_COLUMN\n",
    "\n",
    "        create_directories([config.root_dir])\n",
    "\n",
    "        model_trainer_config=ModelTrainerConfig(\n",
    "            root_dir=config.root_dir,\n",
    "            train_data_path=config.train_data_path,\n",
    "            test_data_path=config.test_data_path,\n",
    "            model_name=config.model_name,\n",
    "            n_estimators=params.n_estimators,\n",
    "            random_state=params.random_state,\n",
    "            target_column=schema.name\n",
    "    \n",
    "        )\n",
    "\n",
    "        return model_trainer_config"
   ]
  },
  {
   "cell_type": "code",
   "execution_count": 9,
   "metadata": {},
   "outputs": [],
   "source": [
    "import pandas as pd\n",
    "import os\n",
    "from CustomerChurnPrediction import logger\n",
    "from sklearn.ensemble import RandomForestClassifier\n",
    "from sklearn.utils.validation import check_X_y\n",
    "from sklearn.utils.multiclass import type_of_target\n",
    "import joblib #we can also use pickle to save the model here, but joblib is better than pickle."
   ]
  },
  {
   "cell_type": "code",
   "execution_count": 12,
   "metadata": {},
   "outputs": [],
   "source": [
    "class ModelTrainer:\n",
    "    def __init__(self,config: ModelTrainerConfig):\n",
    "        self.config=config\n",
    "    \n",
    "    def train(self):\n",
    "        train_data=pd.read_csv(self.config.train_data_path)\n",
    "        test_data=pd.read_csv(self.config.test_data_path)\n",
    "\n",
    "        train_x=train_data.drop([self.config.target_column],axis=1)\n",
    "        test_x=test_data.drop([self.config.target_column],axis=1)\n",
    "        train_y=train_data[[self.config.target_column]]\n",
    "        test_y=test_data[[self.config.target_column]]\n",
    "\n",
    "        train_x, train_y = check_X_y(train_x, train_y.values.ravel(), multi_output=True)\n",
    "        test_x, test_y = check_X_y(test_x, test_y.values.ravel(), multi_output=True)\n",
    "\n",
    "        # Check the type of target variable (classification or regression)\n",
    "        target_type = type_of_target(train_y)\n",
    "        if target_type not in ['binary', 'multiclass']:\n",
    "            raise ValueError(f\"Unsupported target variable type: {target_type}. Model supports binary or multiclass classification.\")\n",
    "\n",
    "\n",
    "        #lr=ElasticNet(alpha=self.config.alpha,l1_ratio=self.config.l1_ratio,random_state=32)\n",
    "        rfc=RandomForestClassifier(n_estimators=self.config.n_estimators, random_state=self.config.random_state,class_weight='balanced')\n",
    "        rfc.fit(train_x,train_y)\n",
    "\n",
    "\n",
    "        joblib.dump(rfc,os.path.join(self.config.root_dir,self.config.model_name))\n",
    "\n"
   ]
  },
  {
   "cell_type": "code",
   "execution_count": 13,
   "metadata": {},
   "outputs": [
    {
     "name": "stdout",
     "output_type": "stream",
     "text": [
      "[2024-03-13 12:58:50,447:INFO:yaml file:config/config.yaml loaded successfully]\n",
      "[2024-03-13 12:58:50,450:INFO:yaml file:params.yaml loaded successfully]\n",
      "[2024-03-13 12:58:50,453:INFO:yaml file:Schema.yaml loaded successfully]\n",
      "[2024-03-13 12:58:50,454:INFO:created directory at:artifacts]\n",
      "[2024-03-13 12:58:50,455:INFO:created directory at:artifacts/model_trainer]\n"
     ]
    }
   ],
   "source": [
    "try: \n",
    "    config=ConfigurationManager()\n",
    "    model_trainer_config=config.get_model_trainer_config()\n",
    "    model_trainer_config=ModelTrainer(config=model_trainer_config)\n",
    "    model_trainer_config.train()\n",
    "except Exception as e:\n",
    "    raise e"
   ]
  },
  {
   "cell_type": "code",
   "execution_count": null,
   "metadata": {},
   "outputs": [],
   "source": []
  }
 ],
 "metadata": {
  "kernelspec": {
   "display_name": "Python 3",
   "language": "python",
   "name": "python3"
  },
  "language_info": {
   "codemirror_mode": {
    "name": "ipython",
    "version": 3
   },
   "file_extension": ".py",
   "mimetype": "text/x-python",
   "name": "python",
   "nbconvert_exporter": "python",
   "pygments_lexer": "ipython3",
   "version": "3.10.0"
  }
 },
 "nbformat": 4,
 "nbformat_minor": 2
}
