{
 "cells": [
  {
   "cell_type": "code",
   "execution_count": 1,
   "metadata": {},
   "outputs": [],
   "source": [
    "import os"
   ]
  },
  {
   "cell_type": "code",
   "execution_count": 2,
   "metadata": {},
   "outputs": [
    {
     "data": {
      "text/plain": [
       "'/Users/ravina/Desktop/CustomerChurnPrediction/research'"
      ]
     },
     "execution_count": 2,
     "metadata": {},
     "output_type": "execute_result"
    }
   ],
   "source": [
    "%pwd"
   ]
  },
  {
   "cell_type": "code",
   "execution_count": 3,
   "metadata": {},
   "outputs": [],
   "source": [
    "os.chdir('../')"
   ]
  },
  {
   "cell_type": "code",
   "execution_count": 4,
   "metadata": {},
   "outputs": [
    {
     "data": {
      "text/plain": [
       "'/Users/ravina/Desktop/CustomerChurnPrediction'"
      ]
     },
     "execution_count": 4,
     "metadata": {},
     "output_type": "execute_result"
    }
   ],
   "source": [
    "%pwd"
   ]
  },
  {
   "cell_type": "code",
   "execution_count": 5,
   "metadata": {},
   "outputs": [],
   "source": [
    "from dataclasses import dataclass \n",
    "from pathlib import Path\n",
    "\n",
    "@dataclass(frozen=True)  #this is not python class but dataclass, here you can define the veriables without using self keyword.\n",
    "class ModelTrainerConfig:\n",
    "    root_dir:Path\n",
    "    train_data_path: Path\n",
    "    test_data_path: Path\n",
    "    model_name: str\n",
    "    n_estimators: int\n",
    "    random_state: int\n",
    "    target_column: str\n",
    "    #n_estimators=100, random_state=42"
   ]
  },
  {
   "cell_type": "code",
   "execution_count": 6,
   "metadata": {},
   "outputs": [],
   "source": [
    "from CustomerChurnPrediction.constants import *\n",
    "from CustomerChurnPrediction.utils.common import read_yaml,create_directories"
   ]
  },
  {
   "cell_type": "code",
   "execution_count": 7,
   "metadata": {},
   "outputs": [],
   "source": [
    "class ConfigurationManager:\n",
    "    def __init__(\n",
    "        self,\n",
    "        config_filepath = CONFIG_FILE_PATH,\n",
    "        params_filepath = PARAMS_FILE_PATH,\n",
    "        schema_filepath = SCHEMA_FILE_PATH):\n",
    "\n",
    "        self.config = read_yaml(config_filepath)\n",
    "        self.params = read_yaml(params_filepath)\n",
    "        self.schema = read_yaml(schema_filepath)\n",
    "\n",
    "        create_directories([self.config.artifacts_root])\n",
    "        \n",
    "    def get_model_trainer_config(self)-> ModelTrainerConfig:\n",
    "        config=self.config.model_trainer\n",
    "        params=self.params.RandomForestClassifier\n",
    "        schema=self.schema.TARGET_COLUMN\n",
    "\n",
    "        create_directories([config.root_dir])\n",
    "\n",
    "        model_trainer_config=ModelTrainerConfig(\n",
    "            root_dir=config.root_dir,\n",
    "            train_data_path=config.train_data_path,\n",
    "            test_data_path=config.test_data_path,\n",
    "            model_name=config.model_name,\n",
    "            n_estimators=params.n_estimators,\n",
    "            random_state=params.random_state,\n",
    "            target_column=schema.name\n",
    "    \n",
    "        )\n",
    "\n",
    "        return model_trainer_config"
   ]
  },
  {
   "cell_type": "code",
   "execution_count": 8,
   "metadata": {},
   "outputs": [],
   "source": [
    "import pandas as pd\n",
    "import os\n",
    "from CustomerChurnPrediction import logger\n",
    "from sklearn.ensemble import RandomForestClassifier\n",
    "from sklearn.utils.validation import check_X_y\n",
    "from sklearn.utils.multiclass import type_of_target\n",
    "import joblib #we can also use pickle to save the model here, but joblib is better than pickle."
   ]
  },
  {
   "cell_type": "code",
   "execution_count": 9,
   "metadata": {},
   "outputs": [],
   "source": [
    "class ModelTrainer:\n",
    "    def __init__(self,config: ModelTrainerConfig):\n",
    "        self.config=config\n",
    "    \n",
    "    def train(self):\n",
    "        train_data=pd.read_csv(self.config.train_data_path)\n",
    "        test_data=pd.read_csv(self.config.test_data_path)\n",
    "\n",
    "        train_x=train_data.drop([self.config.target_column],axis=1)\n",
    "        test_x=test_data.drop([self.config.target_column],axis=1)\n",
    "        train_y=train_data[[self.config.target_column]]\n",
    "        test_y=test_data[[self.config.target_column]]\n",
    "        print(\"shape of train_x is:\",train_x)\n",
    "\n",
    "        train_x, train_y = check_X_y(train_x, train_y.values.ravel(), multi_output=True)\n",
    "        test_x, test_y = check_X_y(test_x, test_y.values.ravel(), multi_output=True)\n",
    "\n",
    "        # Check the type of target variable (classification or regression)\n",
    "        target_type = type_of_target(train_y)\n",
    "        if target_type not in ['binary', 'multiclass']:\n",
    "            raise ValueError(f\"Unsupported target variable type: {target_type}. Model supports binary or multiclass classification.\")\n",
    "\n",
    "\n",
    "        #lr=ElasticNet(alpha=self.config.alpha,l1_ratio=self.config.l1_ratio,random_state=32)\n",
    "        rfc=RandomForestClassifier(n_estimators=self.config.n_estimators,min_samples_split = 2,max_depth= 11, criterion = 'gini',  random_state=self.config.random_state)\n",
    "        \n",
    "        rfc.fit(train_x,train_y)\n",
    "\n",
    "\n",
    "        joblib.dump(rfc,os.path.join(self.config.root_dir,self.config.model_name))\n",
    "\n"
   ]
  },
  {
   "cell_type": "code",
   "execution_count": 10,
   "metadata": {},
   "outputs": [
    {
     "name": "stdout",
     "output_type": "stream",
     "text": [
      "[2024-03-24 19:16:23,991:INFO:yaml file:config/config.yaml loaded successfully]\n",
      "[2024-03-24 19:16:23,993:INFO:yaml file:params.yaml loaded successfully]\n",
      "[2024-03-24 19:16:23,997:INFO:yaml file:Schema.yaml loaded successfully]\n",
      "[2024-03-24 19:16:23,999:INFO:created directory at:artifacts]\n",
      "[2024-03-24 19:16:24,000:INFO:created directory at:artifacts/model_trainer]\n",
      "shape of train_x is:        CreditScore       Age    Tenure   Balance  NumOfProducts  HasCrCard  \\\n",
      "0         0.232504  1.914528 -1.733315  1.627908       0.807737  -1.547768   \n",
      "1         2.063884  0.198164  1.032908 -0.250106      -0.911583   0.646092   \n",
      "2         0.770537 -0.755372  0.341352 -1.225848      -0.911583  -1.547768   \n",
      "3        -0.067552 -0.564665  0.687130  1.572027      -0.911583  -1.547768   \n",
      "4         0.542908 -0.946079  1.378686 -1.225848       0.807737   0.646092   \n",
      "...            ...       ...       ...       ...            ...        ...   \n",
      "11913     0.770537  0.770285 -1.387538  0.455195      -0.911583  -1.547768   \n",
      "11914     2.063884  1.533114 -1.733315  0.356203      -0.911583   0.646092   \n",
      "11915     1.153368 -0.373958 -0.695982  0.686983       2.527057   0.646092   \n",
      "11916    -0.367609  2.105236 -1.387538  0.445262      -0.911583   0.646092   \n",
      "11917    -1.257431  2.295943 -0.350204  0.314904       2.527057   0.646092   \n",
      "\n",
      "       IsActiveMember  EstimatedSalary  Satisfaction Score  Point Earned  \n",
      "0            0.970243        -1.374192           -0.009816     -1.232839  \n",
      "1           -1.030670        -1.187050            0.701498     -0.701663  \n",
      "2           -1.030670        -0.674064           -1.432445     -0.458207  \n",
      "3            0.970243        -0.976343           -1.432445      1.215000  \n",
      "4           -1.030670        -0.859204           -0.009816     -1.613516  \n",
      "...               ...              ...                 ...           ...  \n",
      "11913       -1.030670        -0.234189           -0.009816     -1.303663  \n",
      "11914        0.970243        -0.286450            0.701498      0.033132  \n",
      "11915        0.970243        -0.921201            1.412812     -1.564825  \n",
      "11916       -1.030670        -0.647646           -0.009816      0.028705  \n",
      "11917       -1.030670         0.150288           -0.009816      0.382823  \n",
      "\n",
      "[11918 rows x 10 columns]\n"
     ]
    }
   ],
   "source": [
    "try: \n",
    "    config=ConfigurationManager()\n",
    "    model_trainer_config=config.get_model_trainer_config()\n",
    "    model_trainer_config=ModelTrainer(config=model_trainer_config)\n",
    "    model_trainer_config.train()\n",
    "except Exception as e:\n",
    "    raise e"
   ]
  },
  {
   "cell_type": "code",
   "execution_count": null,
   "metadata": {},
   "outputs": [],
   "source": []
  }
 ],
 "metadata": {
  "kernelspec": {
   "display_name": "Python 3",
   "language": "python",
   "name": "python3"
  },
  "language_info": {
   "codemirror_mode": {
    "name": "ipython",
    "version": 3
   },
   "file_extension": ".py",
   "mimetype": "text/x-python",
   "name": "python",
   "nbconvert_exporter": "python",
   "pygments_lexer": "ipython3",
   "version": "3.10.0"
  }
 },
 "nbformat": 4,
 "nbformat_minor": 2
}
