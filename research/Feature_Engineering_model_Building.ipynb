{
 "cells": [
  {
   "cell_type": "code",
   "execution_count": 21,
   "metadata": {},
   "outputs": [],
   "source": [
    "import pandas as pd \n",
    "import numpy as np\n",
    "import matplotlib.pyplot as plt\n",
    "import seaborn as sns\n"
   ]
  },
  {
   "cell_type": "code",
   "execution_count": 22,
   "metadata": {},
   "outputs": [],
   "source": [
    "df=pd.read_csv(\"/Users/ravina/Desktop/CustomerChurnPrediction/Customer-Churn-Records.csv\")"
   ]
  },
  {
   "cell_type": "code",
   "execution_count": 23,
   "metadata": {},
   "outputs": [
    {
     "data": {
      "text/html": [
       "<div>\n",
       "<style scoped>\n",
       "    .dataframe tbody tr th:only-of-type {\n",
       "        vertical-align: middle;\n",
       "    }\n",
       "\n",
       "    .dataframe tbody tr th {\n",
       "        vertical-align: top;\n",
       "    }\n",
       "\n",
       "    .dataframe thead th {\n",
       "        text-align: right;\n",
       "    }\n",
       "</style>\n",
       "<table border=\"1\" class=\"dataframe\">\n",
       "  <thead>\n",
       "    <tr style=\"text-align: right;\">\n",
       "      <th></th>\n",
       "      <th>RowNumber</th>\n",
       "      <th>CustomerId</th>\n",
       "      <th>Surname</th>\n",
       "      <th>CreditScore</th>\n",
       "      <th>Geography</th>\n",
       "      <th>Gender</th>\n",
       "      <th>Age</th>\n",
       "      <th>Tenure</th>\n",
       "      <th>Balance</th>\n",
       "      <th>NumOfProducts</th>\n",
       "      <th>HasCrCard</th>\n",
       "      <th>IsActiveMember</th>\n",
       "      <th>EstimatedSalary</th>\n",
       "      <th>Exited</th>\n",
       "      <th>Complain</th>\n",
       "      <th>Satisfaction Score</th>\n",
       "      <th>Card Type</th>\n",
       "      <th>Point Earned</th>\n",
       "    </tr>\n",
       "  </thead>\n",
       "  <tbody>\n",
       "    <tr>\n",
       "      <th>0</th>\n",
       "      <td>1</td>\n",
       "      <td>15634602</td>\n",
       "      <td>Hargrave</td>\n",
       "      <td>619</td>\n",
       "      <td>France</td>\n",
       "      <td>Female</td>\n",
       "      <td>42</td>\n",
       "      <td>2</td>\n",
       "      <td>0.00</td>\n",
       "      <td>1</td>\n",
       "      <td>1</td>\n",
       "      <td>1</td>\n",
       "      <td>101348.88</td>\n",
       "      <td>1</td>\n",
       "      <td>1</td>\n",
       "      <td>2</td>\n",
       "      <td>DIAMOND</td>\n",
       "      <td>464</td>\n",
       "    </tr>\n",
       "    <tr>\n",
       "      <th>1</th>\n",
       "      <td>2</td>\n",
       "      <td>15647311</td>\n",
       "      <td>Hill</td>\n",
       "      <td>608</td>\n",
       "      <td>Spain</td>\n",
       "      <td>Female</td>\n",
       "      <td>41</td>\n",
       "      <td>1</td>\n",
       "      <td>83807.86</td>\n",
       "      <td>1</td>\n",
       "      <td>0</td>\n",
       "      <td>1</td>\n",
       "      <td>112542.58</td>\n",
       "      <td>0</td>\n",
       "      <td>1</td>\n",
       "      <td>3</td>\n",
       "      <td>DIAMOND</td>\n",
       "      <td>456</td>\n",
       "    </tr>\n",
       "    <tr>\n",
       "      <th>2</th>\n",
       "      <td>3</td>\n",
       "      <td>15619304</td>\n",
       "      <td>Onio</td>\n",
       "      <td>502</td>\n",
       "      <td>France</td>\n",
       "      <td>Female</td>\n",
       "      <td>42</td>\n",
       "      <td>8</td>\n",
       "      <td>159660.80</td>\n",
       "      <td>3</td>\n",
       "      <td>1</td>\n",
       "      <td>0</td>\n",
       "      <td>113931.57</td>\n",
       "      <td>1</td>\n",
       "      <td>1</td>\n",
       "      <td>3</td>\n",
       "      <td>DIAMOND</td>\n",
       "      <td>377</td>\n",
       "    </tr>\n",
       "    <tr>\n",
       "      <th>3</th>\n",
       "      <td>4</td>\n",
       "      <td>15701354</td>\n",
       "      <td>Boni</td>\n",
       "      <td>699</td>\n",
       "      <td>France</td>\n",
       "      <td>Female</td>\n",
       "      <td>39</td>\n",
       "      <td>1</td>\n",
       "      <td>0.00</td>\n",
       "      <td>2</td>\n",
       "      <td>0</td>\n",
       "      <td>0</td>\n",
       "      <td>93826.63</td>\n",
       "      <td>0</td>\n",
       "      <td>0</td>\n",
       "      <td>5</td>\n",
       "      <td>GOLD</td>\n",
       "      <td>350</td>\n",
       "    </tr>\n",
       "    <tr>\n",
       "      <th>4</th>\n",
       "      <td>5</td>\n",
       "      <td>15737888</td>\n",
       "      <td>Mitchell</td>\n",
       "      <td>850</td>\n",
       "      <td>Spain</td>\n",
       "      <td>Female</td>\n",
       "      <td>43</td>\n",
       "      <td>2</td>\n",
       "      <td>125510.82</td>\n",
       "      <td>1</td>\n",
       "      <td>1</td>\n",
       "      <td>1</td>\n",
       "      <td>79084.10</td>\n",
       "      <td>0</td>\n",
       "      <td>0</td>\n",
       "      <td>5</td>\n",
       "      <td>GOLD</td>\n",
       "      <td>425</td>\n",
       "    </tr>\n",
       "  </tbody>\n",
       "</table>\n",
       "</div>"
      ],
      "text/plain": [
       "   RowNumber  CustomerId   Surname  CreditScore Geography  Gender  Age  \\\n",
       "0          1    15634602  Hargrave          619    France  Female   42   \n",
       "1          2    15647311      Hill          608     Spain  Female   41   \n",
       "2          3    15619304      Onio          502    France  Female   42   \n",
       "3          4    15701354      Boni          699    France  Female   39   \n",
       "4          5    15737888  Mitchell          850     Spain  Female   43   \n",
       "\n",
       "   Tenure    Balance  NumOfProducts  HasCrCard  IsActiveMember  \\\n",
       "0       2       0.00              1          1               1   \n",
       "1       1   83807.86              1          0               1   \n",
       "2       8  159660.80              3          1               0   \n",
       "3       1       0.00              2          0               0   \n",
       "4       2  125510.82              1          1               1   \n",
       "\n",
       "   EstimatedSalary  Exited  Complain  Satisfaction Score Card Type  \\\n",
       "0        101348.88       1         1                   2   DIAMOND   \n",
       "1        112542.58       0         1                   3   DIAMOND   \n",
       "2        113931.57       1         1                   3   DIAMOND   \n",
       "3         93826.63       0         0                   5      GOLD   \n",
       "4         79084.10       0         0                   5      GOLD   \n",
       "\n",
       "   Point Earned  \n",
       "0           464  \n",
       "1           456  \n",
       "2           377  \n",
       "3           350  \n",
       "4           425  "
      ]
     },
     "execution_count": 23,
     "metadata": {},
     "output_type": "execute_result"
    }
   ],
   "source": [
    "df.head()"
   ]
  },
  {
   "cell_type": "code",
   "execution_count": 24,
   "metadata": {},
   "outputs": [],
   "source": [
    "df = df.drop(['RowNumber', 'CustomerId', 'Surname','Complain'], axis=1)"
   ]
  },
  {
   "cell_type": "code",
   "execution_count": 54,
   "metadata": {},
   "outputs": [],
   "source": [
    "df.to_csv('customerchurn_with_necessary_features.csv',index=False)"
   ]
  },
  {
   "cell_type": "code",
   "execution_count": 25,
   "metadata": {},
   "outputs": [],
   "source": [
    "from sklearn.model_selection import train_test_split\n",
    "from sklearn.ensemble import RandomForestClassifier\n",
    "from sklearn.metrics import accuracy_score, confusion_matrix\n",
    "\n",
    "\n",
    "#df = pd.get_dummies(df, columns=['Geography', 'Gender', 'Card Type'],dtype=int,drop_first=True)\n",
    "\n",
    "# Remove irrelevant columns,top five columns ['Complain', 'Age', 'NumOfProducts', 'IsActiveMember', 'Balance']\n",
    "#df = df.drop(['RowNumber', 'CustomerId', 'Surname',\"HasCrCard\",\"Satisfaction Score\",\"Geography\",\"Gender\",\"Card Type\",], axis=1)\n",
    "#df = df.drop(['RowNumber', 'CustomerId', 'Surname',\"HasCrCard\",\"Satisfaction Score\",\"Geography\",\"Gender\",\"Card Type\",\"CreditScore\",\"Tenure\",\"EstimatedSalary\",\"Point Earned\",\"Complain\"], axis=1)\n",
    "#df = df.drop(['RowNumber', 'CustomerId', 'Surname'], axis=1)\n",
    "\n",
    "# Split the dataset into features (X) and target variable (y)\n",
    "df = pd.get_dummies(df, columns=['Geography', 'Gender', 'Card Type'],dtype=int,drop_first=True)\n",
    "\n",
    "#X = df.drop(columns=['Geography', 'Gender', 'Card Type','Exited'],axis=1)\n",
    "\n",
    "\n",
    "\n"
   ]
  },
  {
   "cell_type": "code",
   "execution_count": 26,
   "metadata": {},
   "outputs": [
    {
     "name": "stdout",
     "output_type": "stream",
     "text": [
      "Index(['CreditScore', 'Age', 'Tenure', 'Balance', 'NumOfProducts', 'HasCrCard',\n",
      "       'IsActiveMember', 'EstimatedSalary', 'Satisfaction Score',\n",
      "       'Point Earned', 'Geography_Germany', 'Geography_Spain', 'Gender_Male',\n",
      "       'Card Type_GOLD', 'Card Type_PLATINUM', 'Card Type_SILVER'],\n",
      "      dtype='object')\n"
     ]
    }
   ],
   "source": [
    "Y=df.drop(['Exited'],axis=1)\n",
    "X = Y.values\n",
    "y = df['Exited']\n",
    "print(Y.columns)"
   ]
  },
  {
   "cell_type": "code",
   "execution_count": 27,
   "metadata": {},
   "outputs": [],
   "source": [
    "from sklearn.preprocessing import StandardScaler\n",
    "scaler = StandardScaler()\n",
    "X_standard = scaler.fit_transform(X)\n",
    "# Split the data into training and testing sets\n",
    "#X_train, X_test, y_train, y_test = train_test_split(X_standard, y, test_size=0.25, random_state=42)\n"
   ]
  },
  {
   "cell_type": "code",
   "execution_count": 28,
   "metadata": {},
   "outputs": [],
   "source": [
    "# Split the data into training and testing sets\n",
    "X_train, X_test, y_train, y_test = train_test_split(X_standard, y, test_size=0.3, random_state=42)\n"
   ]
  },
  {
   "cell_type": "code",
   "execution_count": 29,
   "metadata": {},
   "outputs": [],
   "source": [
    "import imblearn\n",
    "from imblearn.over_sampling import RandomOverSampler\n",
    "ros = RandomOverSampler(random_state=0)\n",
    "X_train, y_train = ros.fit_resample(X_train, y_train)"
   ]
  },
  {
   "cell_type": "code",
   "execution_count": 30,
   "metadata": {},
   "outputs": [
    {
     "data": {
      "text/plain": [
       "(11092, 16)"
      ]
     },
     "execution_count": 30,
     "metadata": {},
     "output_type": "execute_result"
    }
   ],
   "source": [
    "X_train.shape"
   ]
  },
  {
   "cell_type": "markdown",
   "metadata": {},
   "source": [
    "# Model Building \n",
    "we will develop different classification model and will see which one give the best results. "
   ]
  },
  {
   "cell_type": "code",
   "execution_count": 51,
   "metadata": {},
   "outputs": [],
   "source": [
    "from sklearn.naive_bayes import GaussianNB\n",
    "from sklearn.tree import DecisionTreeClassifier\n",
    "from sklearn.ensemble import RandomForestClassifier, ExtraTreesClassifier, AdaBoostClassifier, GradientBoostingClassifier\n",
    "from sklearn.cluster import KMeans\n",
    "from sklearn.neighbors import KNeighborsClassifier\n",
    "from sklearn.linear_model import LogisticRegression\n",
    "from sklearn.svm import SVC\n",
    "from xgboost import XGBClassifier\n",
    "from sklearn.ensemble import AdaBoostClassifier\n",
    "from sklearn.model_selection import cross_val_score\n",
    "import warnings\n",
    "warnings.filterwarnings(\"ignore\")"
   ]
  },
  {
   "cell_type": "code",
   "execution_count": 32,
   "metadata": {},
   "outputs": [],
   "source": [
    "from sklearn.metrics import precision_score,recall_score, accuracy_score, roc_auc_score,f1_score,confusion_matrix"
   ]
  },
  {
   "cell_type": "code",
   "execution_count": 52,
   "metadata": {},
   "outputs": [
    {
     "name": "stdout",
     "output_type": "stream",
     "text": [
      "Best: 0.910206 using {'C': 100, 'gamma': 'auto', 'kernel': 'rbf'}\n"
     ]
    }
   ],
   "source": [
    "import warnings\n",
    "from sklearn.svm import SVC\n",
    "from sklearn.model_selection import GridSearchCV\n",
    "warnings.filterwarnings(\"ignore\")\n",
    "\n",
    "params = {\n",
    "    'C': [0.1, 1, 10, 100],  # Regularization parameter\n",
    "    'kernel': ['linear', 'poly', 'rbf', 'sigmoid'],  # Kernel type\n",
    "    'gamma': ['scale', 'auto']  # Kernel coefficient for 'rbf', 'poly', and 'sigmoid'\n",
    "}\n",
    "\n",
    "\n",
    "svc = SVC()\n",
    "\n",
    "svc_model = GridSearchCV(estimator=svc, param_grid=params, n_jobs=-1, scoring='accuracy', cv=5)\n",
    "\n",
    "# Fit the GridSearchCV object to the data\n",
    "result = svc_model.fit(X_train, y_train)\n",
    "\n",
    "# Print the best score and parameters\n",
    "print(\"Best: %f using %s\" % (result.best_score_, result.best_params_))\n"
   ]
  },
  {
   "cell_type": "code",
   "execution_count": 53,
   "metadata": {},
   "outputs": [
    {
     "name": "stdout",
     "output_type": "stream",
     "text": [
      "              precision    recall  f1-score   support\n",
      "\n",
      "           0       0.89      0.87      0.88      2416\n",
      "           1       0.49      0.54      0.51       584\n",
      "\n",
      "    accuracy                           0.80      3000\n",
      "   macro avg       0.69      0.70      0.69      3000\n",
      "weighted avg       0.81      0.80      0.80      3000\n",
      "\n",
      "Recall: 0.5376712328767124\n",
      "Precision: 0.490625\n"
     ]
    }
   ],
   "source": [
    "from sklearn.metrics import classification_report\n",
    "from sklearn.metrics import precision_score\n",
    "from sklearn.metrics import recall_score,roc_auc_score\n",
    "\n",
    "svc=SVC(C=100,gamma='auto',kernel='rbf')\n",
    "svc.fit(X_train, y_train)\n",
    "y_pred = svc.predict(X_test)\n",
    "\n",
    "print(classification_report(y_test, y_pred))\n",
    "\n",
    "precision = precision_score(y_test, y_pred)\n",
    "recall = recall_score(y_test, y_pred)\n",
    "roc_score=roc_auc_score(y_test,y_pred)\n",
    "print('Recall:', recall)\n",
    "print('Precision:', precision)"
   ]
  },
  {
   "cell_type": "markdown",
   "metadata": {},
   "source": [
    "# AdaBoostClassifier\n"
   ]
  },
  {
   "cell_type": "code",
   "execution_count": 33,
   "metadata": {},
   "outputs": [
    {
     "data": {
      "text/plain": [
       "0.7710062632515292"
      ]
     },
     "execution_count": 33,
     "metadata": {},
     "output_type": "execute_result"
    }
   ],
   "source": [
    "adc=AdaBoostClassifier()\n",
    "adc.fit(X_train,y_train)\n",
    "np.mean(cross_val_score(adc,X_train,y_train,scoring='accuracy',cv=10))\n"
   ]
  },
  {
   "cell_type": "code",
   "execution_count": 34,
   "metadata": {},
   "outputs": [
    {
     "name": "stdout",
     "output_type": "stream",
     "text": [
      "Best: 0.768392 using {'algorithm': 'SAMME', 'learning_rate': 1.0, 'n_estimators': 100}\n"
     ]
    }
   ],
   "source": [
    "import warnings\n",
    "warnings.filterwarnings(\"ignore\")\n",
    "from sklearn.model_selection import GridSearchCV\n",
    "params=dict()\n",
    "params['n_estimators']=[50,70,100,150,200]\n",
    "params['learning_rate'] = [0.0001, 0.001, 0.01, 0.1, 1.0]\n",
    "params['algorithm'] = ['SAMME']\n",
    "\n",
    "adc_model=GridSearchCV(estimator=adc,param_grid=params,n_jobs=-1,scoring='accuracy',cv=5)\n",
    "result=adc_model.fit(X_train,y_train)\n",
    "\n",
    "#best score and parameters\n",
    "\n",
    "print(\"Best: %f using %s\" % (result.best_score_, result.best_params_))"
   ]
  },
  {
   "cell_type": "markdown",
   "metadata": {},
   "source": [
    "# Observation about Adaboost performance\n",
    "1. Adaboost model correctly identifies about 75.6% of the customers who actually churned.\n",
    "2. Aamong all the customers predicted to churn by the model, approximately 48.9% actually churned.\n",
    "3. The model achieves a moderate level of accuracy, correctly predicting around 79% of the cases across both churn and non-churn classes."
   ]
  },
  {
   "cell_type": "markdown",
   "metadata": {},
   "source": []
  },
  {
   "cell_type": "code",
   "execution_count": 35,
   "metadata": {},
   "outputs": [
    {
     "name": "stdout",
     "output_type": "stream",
     "text": [
      "              precision    recall  f1-score   support\n",
      "\n",
      "           0       0.93      0.81      0.86      2416\n",
      "           1       0.49      0.76      0.59       584\n",
      "\n",
      "    accuracy                           0.80      3000\n",
      "   macro avg       0.71      0.78      0.73      3000\n",
      "weighted avg       0.84      0.80      0.81      3000\n",
      "\n",
      "Recall: 0.7551369863013698\n",
      "Precision: 0.4856828193832599\n"
     ]
    }
   ],
   "source": [
    "from sklearn.metrics import classification_report\n",
    "from sklearn.metrics import precision_score\n",
    "from sklearn.metrics import recall_score\n",
    "\n",
    "adc=AdaBoostClassifier(n_estimators=200,learning_rate=0.1,)\n",
    "adc.fit(X_train, y_train)\n",
    "y_pred = adc.predict(X_test)\n",
    "\n",
    "print(classification_report(y_test, y_pred))\n",
    "\n",
    "precision = precision_score(y_test, y_pred)\n",
    "recall = recall_score(y_test, y_pred)\n",
    "print('Recall:', recall)\n",
    "print('Precision:', precision)"
   ]
  },
  {
   "cell_type": "markdown",
   "metadata": {},
   "source": [
    "# DecisionTreeClassifier "
   ]
  },
  {
   "cell_type": "code",
   "execution_count": 36,
   "metadata": {},
   "outputs": [
    {
     "name": "stdout",
     "output_type": "stream",
     "text": [
      "Best: 0.829157 using {'criterion': 'gini', 'max_depth': 10, 'min_samples_leaf': 1, 'min_samples_split': 2}\n"
     ]
    }
   ],
   "source": [
    "\n",
    "from sklearn.model_selection import GridSearchCV\n",
    "from sklearn.tree import DecisionTreeClassifier\n",
    "\n",
    "# Define DecisionTreeClassifier\n",
    "dtc = DecisionTreeClassifier(random_state=42)\n",
    "\n",
    "# Define parameters for GridSearchCV\n",
    "params = {\n",
    "    'criterion':['gini','entropy'],\n",
    "    'max_depth': [3, 5, 7, 10],\n",
    "    'min_samples_split': [2, 5, 10],\n",
    "    'min_samples_leaf': [1, 2, 4]\n",
    "}\n",
    "\n",
    "# Perform GridSearchCV\n",
    "dtc_model = GridSearchCV(estimator=dtc, param_grid=params, n_jobs=-1, scoring='accuracy', cv=5)\n",
    "result = dtc_model.fit(X_train, y_train)\n",
    "\n",
    "# Print best score and parameters\n",
    "print(\"Best: %f using %s\" % (result.best_score_, result.best_params_))\n"
   ]
  },
  {
   "cell_type": "markdown",
   "metadata": {},
   "source": [
    "# Observation about the performance of Decision Tree classifier\n",
    "1. Identified approximately 77.6% of the actual positive cases correctly.\n",
    "2. Out of all the cases the classifier labeled as positive, approximately 48.9.06% were actually positive.\n",
    "3. Accuracy indicates classifier correctly predicted 79% of the cases in the dataset.\n",
    "\n",
    "\n",
    "Decision Tree and AdaboostClassifier nearly gave same results."
   ]
  },
  {
   "cell_type": "code",
   "execution_count": 37,
   "metadata": {},
   "outputs": [
    {
     "name": "stdout",
     "output_type": "stream",
     "text": [
      "              precision    recall  f1-score   support\n",
      "\n",
      "           0       0.93      0.81      0.86      2416\n",
      "           1       0.49      0.76      0.59       584\n",
      "\n",
      "    accuracy                           0.80      3000\n",
      "   macro avg       0.71      0.78      0.73      3000\n",
      "weighted avg       0.84      0.80      0.81      3000\n",
      "\n",
      "Recall: 0.7551369863013698\n",
      "Precision: 0.4856828193832599\n"
     ]
    }
   ],
   "source": [
    "dtc = DecisionTreeClassifier(criterion='gini',max_depth=10,min_samples_leaf=1,min_samples_split=2,random_state=42)\n",
    "dtc.fit(X_train, y_train)\n",
    "y_pred = adc.predict(X_test)\n",
    "\n",
    "print(classification_report(y_test, y_pred))\n",
    "\n",
    "precision = precision_score(y_test, y_pred)\n",
    "recall = recall_score(y_test, y_pred)\n",
    "print('Recall:', recall)\n",
    "print('Precision:', precision)"
   ]
  },
  {
   "cell_type": "markdown",
   "metadata": {},
   "source": [
    "# RandomForestClassifier"
   ]
  },
  {
   "cell_type": "code",
   "execution_count": 40,
   "metadata": {},
   "outputs": [
    {
     "name": "stdout",
     "output_type": "stream",
     "text": [
      "Best: 0.900470 using {'criterion': 'gini', 'max_depth': 11, 'min_samples_split': 4, 'n_estimators': 50}\n",
      "n_estimators:  50\n",
      "criterion:  gini\n",
      "Score:  0.9004695898322179\n",
      "Min Split:  4\n",
      "Max depth:  11\n"
     ]
    }
   ],
   "source": [
    "from sklearn.metrics import classification_report\n",
    "from sklearn.metrics import precision_score\n",
    "from sklearn.metrics import recall_score\n",
    "\n",
    "from sklearn.ensemble import RandomForestClassifier\n",
    "from sklearn.model_selection import RandomizedSearchCV,GridSearchCV\n",
    "\n",
    "parameters = {\n",
    "              \"n_estimators\":[50,70,80,100,120],\n",
    "              'max_depth': [3, 4, 5, 6, 7, 9, 11],\n",
    "              'min_samples_split': [2, 3, 4, 5, 6, 7],\n",
    "              'criterion': ['entropy', 'gini']\n",
    "             }\n",
    "\n",
    "model = RandomForestClassifier()\n",
    "#gridRandomForest = RandomizedSearchCV(model, parameters, cv = 5, n_jobs = -1)\n",
    "gridRandomForest = GridSearchCV(model, parameters, cv = 5, n_jobs = -1)\n",
    "gridRandomForest.fit(X_train, y_train)\n",
    "\n",
    "print(\"Best: %f using %s\" % (gridRandomForest.best_score_, gridRandomForest.best_params_))\n",
    "print('n_estimators: ',gridRandomForest.best_estimator_.n_estimators)\n",
    "print('criterion: ', gridRandomForest.best_estimator_.criterion)\n",
    "print('Score: ', gridRandomForest.best_score_)\n",
    "print('Min Split: ', gridRandomForest.best_estimator_.min_samples_split)\n",
    "print('Max depth: ', gridRandomForest.best_estimator_.max_depth)"
   ]
  },
  {
   "cell_type": "code",
   "execution_count": 41,
   "metadata": {},
   "outputs": [
    {
     "name": "stdout",
     "output_type": "stream",
     "text": [
      "Accuracy: 0.8396666666666667\n",
      "Confusion Matrix:\n",
      "[[2142  274]\n",
      " [ 207  377]]\n"
     ]
    }
   ],
   "source": [
    "# Initialize the Random Forest Classifier\n",
    "rf_classifier = RandomForestClassifier(n_estimators=50, random_state=42,class_weight='balanced',max_depth=11,min_samples_split=4,criterion='gini')\n",
    "\n",
    "# Fit the model on the training data\n",
    "rf_classifier.fit(X_train, y_train)\n",
    "\n",
    "# Make predictions on the test data\n",
    "y_pred = rf_classifier.predict(X_test)\n",
    "\n",
    "# Calculate the accuracy of the model\n",
    "accuracy = accuracy_score(y_test, y_pred)\n",
    "print('Accuracy:', accuracy)\n",
    "\n",
    "# Create a confusion matrix\n",
    "cm = confusion_matrix(y_test, y_pred)\n",
    "print('Confusion Matrix:')\n",
    "print(cm)"
   ]
  },
  {
   "cell_type": "code",
   "execution_count": 42,
   "metadata": {},
   "outputs": [
    {
     "name": "stdout",
     "output_type": "stream",
     "text": [
      "              precision    recall  f1-score   support\n",
      "\n",
      "           0       0.91      0.89      0.90      2416\n",
      "           1       0.59      0.64      0.61       584\n",
      "\n",
      "    accuracy                           0.84      3000\n",
      "   macro avg       0.75      0.77      0.76      3000\n",
      "weighted avg       0.85      0.84      0.85      3000\n",
      "\n",
      "Recall: 0.6386986301369864\n",
      "Precision: 0.5892575039494471\n"
     ]
    }
   ],
   "source": [
    "from yellowbrick.classifier import ConfusionMatrix\n",
    "from sklearn.metrics import classification_report\n",
    "from sklearn.metrics import precision_score\n",
    "from sklearn.metrics import recall_score\n",
    "\n",
    "random_forest = RandomForestClassifier(n_estimators = 70, min_samples_split = 2, max_depth= 11,  criterion = 'gini', random_state = 0)\n",
    "random_forest.fit(X_train, y_train)\n",
    "y_pred = random_forest.predict(X_test)\n",
    "\n",
    "print(classification_report(y_test, y_pred))\n",
    "\n",
    "precision = precision_score(y_test, y_pred)\n",
    "recall = recall_score(y_test, y_pred)\n",
    "print('Recall:', recall)\n",
    "print('Precision:', precision)"
   ]
  },
  {
   "cell_type": "code",
   "execution_count": 43,
   "metadata": {},
   "outputs": [
    {
     "data": {
      "text/plain": [
       "Age                   0.286925\n",
       "NumOfProducts         0.173906\n",
       "Balance               0.102750\n",
       "Point Earned          0.074545\n",
       "EstimatedSalary       0.072354\n",
       "CreditScore           0.070420\n",
       "IsActiveMember        0.052949\n",
       "Geography_Germany     0.040908\n",
       "Tenure                0.039045\n",
       "Satisfaction Score    0.025127\n",
       "Gender_Male           0.018702\n",
       "Geography_Spain       0.009534\n",
       "HasCrCard             0.009421\n",
       "Card Type_PLATINUM    0.008079\n",
       "Card Type_SILVER      0.007942\n",
       "Card Type_GOLD        0.007392\n",
       "dtype: float64"
      ]
     },
     "execution_count": 43,
     "metadata": {},
     "output_type": "execute_result"
    }
   ],
   "source": [
    "feature_imp_random = pd.Series(random_forest.feature_importances_, index = Y.columns).sort_values(ascending = False)\n",
    "feature_imp_random"
   ]
  },
  {
   "cell_type": "code",
   "execution_count": 44,
   "metadata": {},
   "outputs": [
    {
     "data": {
      "text/plain": [
       "Index(['Age', 'NumOfProducts', 'Balance', 'Point Earned', 'EstimatedSalary',\n",
       "       'CreditScore', 'IsActiveMember', 'Geography_Germany', 'Tenure',\n",
       "       'Satisfaction Score'],\n",
       "      dtype='object')"
      ]
     },
     "execution_count": 44,
     "metadata": {},
     "output_type": "execute_result"
    }
   ],
   "source": [
    "feature_importances = random_forest.feature_importances_\n",
    "\n",
    "# Select top N features\n",
    "top_features = Y.columns[np.argsort(feature_importances)[::-1][:10]]\n",
    "top_features"
   ]
  },
  {
   "cell_type": "code",
   "execution_count": 47,
   "metadata": {},
   "outputs": [
    {
     "name": "stdout",
     "output_type": "stream",
     "text": [
      "Score:  0.8405156869816084\n",
      "Params:  {'subsample': 0.5, 'reg_lambda': 0.3, 'reg_alpha': 0.5, 'n_estimators': 500, 'min_child_weight': 1, 'max_depth': 3, 'learning_rate': 0.1, 'gamma': 0.1, 'colsample_bytree': 0.5}\n"
     ]
    }
   ],
   "source": [
    "parameters = {'learning_rate': [0.01, 0.03, 0.05, 0.1],\n",
    "              'max_depth': [1 , 2, 3, 4, 5, 6],\n",
    "              'min_child_weight': [1, 3, 5, 7, 9],\n",
    "              'subsample': [0.1, 0.3, 0.5, 0.7, 0.9],\n",
    "              'colsample_bytree': [0.1, 0.3, 0.5, 0.7],\n",
    "              'n_estimators': [500],\n",
    "              'gamma': [0.1, 0.3, 0.5, 0.7],\n",
    "              'reg_alpha': [0.1, 0.3, 0.5],\n",
    "              'reg_lambda': [0.1, 0.3, 0.5]\n",
    "             }\n",
    "\n",
    "model = XGBClassifier()\n",
    "xgb_grid =RandomizedSearchCV(model,parameters, cv = 2, n_jobs = -1)\n",
    "xgb_grid.fit(X_train, y_train)\n",
    "\n",
    "print('Score: ', xgb_grid.best_score_)\n",
    "print('Params: ', xgb_grid.best_params_)"
   ]
  },
  {
   "cell_type": "code",
   "execution_count": 48,
   "metadata": {},
   "outputs": [
    {
     "name": "stdout",
     "output_type": "stream",
     "text": [
      "              precision    recall  f1-score   support\n",
      "\n",
      "           0       0.93      0.85      0.89      2416\n",
      "           1       0.54      0.72      0.61       584\n",
      "\n",
      "    accuracy                           0.82      3000\n",
      "   macro avg       0.73      0.78      0.75      3000\n",
      "weighted avg       0.85      0.82      0.83      3000\n",
      "\n",
      "Recall: 0.7157534246575342\n",
      "Precision: 0.5372750642673522\n"
     ]
    }
   ],
   "source": [
    "xgb = XGBClassifier(subsample = 0.5, reg_lambda = 0.3, reg_alpha = 0.5, n_estimators = 500, min_child_weight = 1, max_depth = 3, learning_rate = 0.1, gamma = 0.1, colsample_bytree = 0.5, random_state = 0)\n",
    "xgb.fit(X_train, y_train)\n",
    "y_pred = xgb.predict(X_test)\n",
    "print(classification_report(y_test, y_pred))\n",
    "\n",
    "precision = precision_score(y_test, y_pred)\n",
    "recall = recall_score(y_test, y_pred)\n",
    "print('Recall:', recall)\n",
    "print('Precision:', precision)\n",
    "\n"
   ]
  },
  {
   "cell_type": "markdown",
   "metadata": {},
   "source": [
    "# The accuracy here at XGB is also good, but same problem, the model learned a lot the negative result not the positive one. Therefore let's take random forest model as final model."
   ]
  },
  {
   "cell_type": "code",
   "execution_count": 50,
   "metadata": {},
   "outputs": [
    {
     "data": {
      "text/html": [
       "<div>\n",
       "<style scoped>\n",
       "    .dataframe tbody tr th:only-of-type {\n",
       "        vertical-align: middle;\n",
       "    }\n",
       "\n",
       "    .dataframe tbody tr th {\n",
       "        vertical-align: top;\n",
       "    }\n",
       "\n",
       "    .dataframe thead th {\n",
       "        text-align: right;\n",
       "    }\n",
       "</style>\n",
       "<table border=\"1\" class=\"dataframe\">\n",
       "  <thead>\n",
       "    <tr style=\"text-align: right;\">\n",
       "      <th></th>\n",
       "      <th>Chi Squared Score</th>\n",
       "    </tr>\n",
       "  </thead>\n",
       "  <tbody>\n",
       "    <tr>\n",
       "      <th>Balance</th>\n",
       "      <td>7156628.86</td>\n",
       "    </tr>\n",
       "    <tr>\n",
       "      <th>EstimatedSalary</th>\n",
       "      <td>51542.37</td>\n",
       "    </tr>\n",
       "    <tr>\n",
       "      <th>Age</th>\n",
       "      <td>2299.99</td>\n",
       "    </tr>\n",
       "    <tr>\n",
       "      <th>Geography_Germany</th>\n",
       "      <td>225.01</td>\n",
       "    </tr>\n",
       "    <tr>\n",
       "      <th>IsActiveMember</th>\n",
       "      <td>118.54</td>\n",
       "    </tr>\n",
       "    <tr>\n",
       "      <th>CreditScore</th>\n",
       "      <td>102.91</td>\n",
       "    </tr>\n",
       "    <tr>\n",
       "      <th>Gender_Male</th>\n",
       "      <td>51.30</td>\n",
       "    </tr>\n",
       "    <tr>\n",
       "      <th>Geography_Spain</th>\n",
       "      <td>20.97</td>\n",
       "    </tr>\n",
       "    <tr>\n",
       "      <th>Point Earned</th>\n",
       "      <td>18.02</td>\n",
       "    </tr>\n",
       "    <tr>\n",
       "      <th>NumOfProducts</th>\n",
       "      <td>5.01</td>\n",
       "    </tr>\n",
       "    <tr>\n",
       "      <th>Tenure</th>\n",
       "      <td>3.11</td>\n",
       "    </tr>\n",
       "    <tr>\n",
       "      <th>Card Type_GOLD</th>\n",
       "      <td>1.92</td>\n",
       "    </tr>\n",
       "    <tr>\n",
       "      <th>Satisfaction Score</th>\n",
       "      <td>0.22</td>\n",
       "    </tr>\n",
       "    <tr>\n",
       "      <th>HasCrCard</th>\n",
       "      <td>0.14</td>\n",
       "    </tr>\n",
       "    <tr>\n",
       "      <th>Card Type_SILVER</th>\n",
       "      <td>0.11</td>\n",
       "    </tr>\n",
       "    <tr>\n",
       "      <th>Card Type_PLATINUM</th>\n",
       "      <td>0.00</td>\n",
       "    </tr>\n",
       "  </tbody>\n",
       "</table>\n",
       "</div>"
      ],
      "text/plain": [
       "                    Chi Squared Score\n",
       "Balance                    7156628.86\n",
       "EstimatedSalary              51542.37\n",
       "Age                           2299.99\n",
       "Geography_Germany              225.01\n",
       "IsActiveMember                 118.54\n",
       "CreditScore                    102.91\n",
       "Gender_Male                     51.30\n",
       "Geography_Spain                 20.97\n",
       "Point Earned                    18.02\n",
       "NumOfProducts                    5.01\n",
       "Tenure                           3.11\n",
       "Card Type_GOLD                   1.92\n",
       "Satisfaction Score               0.22\n",
       "HasCrCard                        0.14\n",
       "Card Type_SILVER                 0.11\n",
       "Card Type_PLATINUM               0.00"
      ]
     },
     "execution_count": 50,
     "metadata": {},
     "output_type": "execute_result"
    }
   ],
   "source": [
    "from sklearn.feature_selection import SelectKBest\n",
    "from sklearn.feature_selection import chi2\n",
    "\n",
    "features = X\n",
    "target = y\n",
    "\n",
    "best_features = SelectKBest(score_func = chi2,k = 'all')\n",
    "fit = best_features.fit(features,target)\n",
    "\n",
    "featureScores = pd.DataFrame(data = fit.scores_,index = list(Y.columns),columns = ['Chi Squared Score']) \n",
    "\n",
    "featureScores.sort_values(by = 'Chi Squared Score', ascending = False).round(2)"
   ]
  },
  {
   "cell_type": "code",
   "execution_count": null,
   "metadata": {},
   "outputs": [],
   "source": []
  }
 ],
 "metadata": {
  "kernelspec": {
   "display_name": "Python 3",
   "language": "python",
   "name": "python3"
  },
  "language_info": {
   "codemirror_mode": {
    "name": "ipython",
    "version": 3
   },
   "file_extension": ".py",
   "mimetype": "text/x-python",
   "name": "python",
   "nbconvert_exporter": "python",
   "pygments_lexer": "ipython3",
   "version": "3.10.0"
  }
 },
 "nbformat": 4,
 "nbformat_minor": 2
}
