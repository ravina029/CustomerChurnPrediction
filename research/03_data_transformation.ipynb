{
 "cells": [
  {
   "cell_type": "code",
   "execution_count": 1,
   "metadata": {},
   "outputs": [],
   "source": [
    "import os"
   ]
  },
  {
   "cell_type": "code",
   "execution_count": 2,
   "metadata": {},
   "outputs": [
    {
     "data": {
      "text/plain": [
       "'/Users/ravina/Desktop/CustomerChurnPrediction/research'"
      ]
     },
     "execution_count": 2,
     "metadata": {},
     "output_type": "execute_result"
    }
   ],
   "source": [
    "%pwd"
   ]
  },
  {
   "cell_type": "code",
   "execution_count": 3,
   "metadata": {},
   "outputs": [],
   "source": [
    "os.chdir('../')"
   ]
  },
  {
   "cell_type": "code",
   "execution_count": 4,
   "metadata": {},
   "outputs": [
    {
     "data": {
      "text/plain": [
       "'/Users/ravina/Desktop/CustomerChurnPrediction'"
      ]
     },
     "execution_count": 4,
     "metadata": {},
     "output_type": "execute_result"
    }
   ],
   "source": [
    "%pwd"
   ]
  },
  {
   "cell_type": "code",
   "execution_count": 5,
   "metadata": {},
   "outputs": [],
   "source": [
    "from dataclasses import dataclass \n",
    "from pathlib import Path\n",
    "\n",
    "@dataclass(frozen=True)  #this is not python class but dataclass, here you can define the veriables without using self keyword.\n",
    "class DataTransformationConfig:\n",
    "    root_dir:Path\n",
    "    data_path: Path"
   ]
  },
  {
   "cell_type": "code",
   "execution_count": 6,
   "metadata": {},
   "outputs": [],
   "source": [
    "from CustomerChurnPrediction.constants import *\n",
    "from CustomerChurnPrediction.utils.common import read_yaml,create_directories"
   ]
  },
  {
   "cell_type": "code",
   "execution_count": 7,
   "metadata": {},
   "outputs": [],
   "source": [
    "class ConfigurationManager:\n",
    "    def __init__(\n",
    "        self,\n",
    "        config_filepath = CONFIG_FILE_PATH,\n",
    "        params_filepath = PARAMS_FILE_PATH,\n",
    "        schema_filepath = SCHEMA_FILE_PATH):\n",
    "\n",
    "        self.config = read_yaml(config_filepath)\n",
    "        self.params = read_yaml(params_filepath)\n",
    "        self.schema = read_yaml(schema_filepath)\n",
    "\n",
    "        create_directories([self.config.artifacts_root])\n",
    "        \n",
    "\n",
    "    def get_data_transformation_config(self)-> DataTransformationConfig:\n",
    "        config=self.config.data_transformation\n",
    "\n",
    "        create_directories([config.root_dir])\n",
    "\n",
    "        data_transformation_config=DataTransformationConfig(\n",
    "            root_dir=config.root_dir,\n",
    "            data_path=config.data_path,\n",
    "\n",
    "        )\n",
    "\n",
    "        return data_transformation_config"
   ]
  },
  {
   "cell_type": "code",
   "execution_count": 8,
   "metadata": {},
   "outputs": [],
   "source": [
    "import os\n",
    "from CustomerChurnPrediction import logger\n",
    "from sklearn.model_selection import train_test_split\n",
    "import pandas as pd \n",
    "from sklearn.preprocessing import StandardScaler\n",
    "import imblearn\n",
    "from imblearn.over_sampling import RandomOverSampler\n",
    "\n"
   ]
  },
  {
   "cell_type": "code",
   "execution_count": 9,
   "metadata": {},
   "outputs": [],
   "source": [
    "class DataTransformation:\n",
    "    def __init__(self, config: DataTransformationConfig):\n",
    "        self.config = config\n",
    "\n",
    "    def train_test_splitting(self):\n",
    "        df = pd.read_csv(self.config.data_path)\n",
    "        \n",
    "        # Separate the target variable 'Exited'\n",
    "        y = df['Exited']\n",
    "        X=df.drop(['RowNumber', 'CustomerId', 'Surname', 'Complain','Geography', 'Gender', 'Card Type','Exited',], axis=1)\n",
    "        print(\"columns of X:\",X.columns)\n",
    "        \n",
    "        cat_columns = ['Geography', 'Gender', 'Card Type']\n",
    "        num_columns = ['CreditScore', 'Age', 'Tenure', 'Balance', 'NumOfProducts',\"HasCrCard\",'IsActiveMember','EstimatedSalary', 'Satisfaction Score', 'Point Earned']\n",
    "        \n",
    "        # Handle categorical variables using one-hot encoding\n",
    "        df_cat_encoded = pd.get_dummies(df[cat_columns], dtype=int,drop_first=True)\n",
    "\n",
    "        # Standard scaling on numerical columns\n",
    "        scaler = StandardScaler()\n",
    "        df_scaled = scaler.fit_transform(X[num_columns])\n",
    "        df_scaled = pd.DataFrame(df_scaled, columns=num_columns)\n",
    "\n",
    "        # Concatenate the encoded categorical, scaled numerical and target y.\n",
    "        df_transformed = pd.concat([df_scaled,df_cat_encoded, y], axis=1)\n",
    "\n",
    "        # Split into training and testing sets\n",
    "        train, test = train_test_split(df_transformed, test_size=0.25, random_state=42)\n",
    "        \n",
    "        # Apply oversampling to training set\n",
    "        ros = RandomOverSampler(random_state=0)\n",
    "        X_train, y_train = ros.fit_resample(train.drop(columns=['Exited']), train['Exited'])\n",
    "        train_resampled = pd.concat([pd.DataFrame(X_train, columns=train.drop(columns=['Exited']).columns), pd.DataFrame(y_train, columns=['Exited'])], axis=1)\n",
    "        print(\"columns of train_resample:\",train_resampled.columns)\n",
    "        # Save train and test sets to CSV\n",
    "        train_resampled.to_csv(os.path.join(self.config.root_dir, 'train.csv'), index=False)\n",
    "        test.to_csv(os.path.join(self.config.root_dir, 'test.csv'), index=False)\n",
    "\n",
    "        logger.info(\"Data has been split into training and test sets.\")\n",
    "        logger.info(f\"Training set shape: {train_resampled.shape}\")\n",
    "        logger.info(f\"Test set shape: {test.shape}\")\n",
    "\n",
    "\n"
   ]
  },
  {
   "cell_type": "code",
   "execution_count": 10,
   "metadata": {},
   "outputs": [
    {
     "name": "stdout",
     "output_type": "stream",
     "text": [
      "[2024-03-19 18:39:12,860:INFO:yaml file:config/config.yaml loaded successfully]\n",
      "[2024-03-19 18:39:12,862:INFO:yaml file:params.yaml loaded successfully]\n",
      "[2024-03-19 18:39:12,865:INFO:yaml file:Schema.yaml loaded successfully]\n",
      "[2024-03-19 18:39:12,866:INFO:created directory at:artifacts]\n",
      "[2024-03-19 18:39:12,866:INFO:created directory at:artifacts/data_transformation]\n",
      "columns of X: Index(['CreditScore', 'Age', 'Tenure', 'Balance', 'NumOfProducts', 'HasCrCard',\n",
      "       'IsActiveMember', 'EstimatedSalary', 'Satisfaction Score',\n",
      "       'Point Earned'],\n",
      "      dtype='object')\n",
      "columns of train_resample: Index(['CreditScore', 'Age', 'Tenure', 'Balance', 'NumOfProducts', 'HasCrCard',\n",
      "       'IsActiveMember', 'EstimatedSalary', 'Satisfaction Score',\n",
      "       'Point Earned', 'Geography_Germany', 'Geography_Spain', 'Gender_Male',\n",
      "       'Card Type_GOLD', 'Card Type_PLATINUM', 'Card Type_SILVER', 'Exited'],\n",
      "      dtype='object')\n",
      "[2024-03-19 18:39:13,111:INFO:Data has been split into training and test sets.]\n",
      "[2024-03-19 18:39:13,111:INFO:Training set shape: (11918, 17)]\n",
      "[2024-03-19 18:39:13,112:INFO:Test set shape: (2500, 17)]\n"
     ]
    }
   ],
   "source": [
    "try:\n",
    "    config = ConfigurationManager()\n",
    "    data_transformation_config = config.get_data_transformation_config()\n",
    "    data_transformation = DataTransformation(config=data_transformation_config)\n",
    "    data_transformation.train_test_splitting()\n",
    "except Exception as e:\n",
    "    raise e\n"
   ]
  },
  {
   "cell_type": "code",
   "execution_count": null,
   "metadata": {},
   "outputs": [],
   "source": []
  }
 ],
 "metadata": {
  "kernelspec": {
   "display_name": "Python 3",
   "language": "python",
   "name": "python3"
  },
  "language_info": {
   "codemirror_mode": {
    "name": "ipython",
    "version": 3
   },
   "file_extension": ".py",
   "mimetype": "text/x-python",
   "name": "python",
   "nbconvert_exporter": "python",
   "pygments_lexer": "ipython3",
   "version": "3.10.0"
  }
 },
 "nbformat": 4,
 "nbformat_minor": 2
}
