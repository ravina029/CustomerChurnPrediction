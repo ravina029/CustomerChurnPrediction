{
 "cells": [
  {
   "cell_type": "code",
   "execution_count": 1,
   "metadata": {},
   "outputs": [],
   "source": [
    "import os"
   ]
  },
  {
   "cell_type": "code",
   "execution_count": 2,
   "metadata": {},
   "outputs": [
    {
     "data": {
      "text/plain": [
       "'/Users/ravina/Desktop/CustomerChurnPrediction/research'"
      ]
     },
     "execution_count": 2,
     "metadata": {},
     "output_type": "execute_result"
    }
   ],
   "source": [
    "%pwd"
   ]
  },
  {
   "cell_type": "code",
   "execution_count": 3,
   "metadata": {},
   "outputs": [],
   "source": [
    "os.chdir('../')"
   ]
  },
  {
   "cell_type": "code",
   "execution_count": 4,
   "metadata": {},
   "outputs": [
    {
     "data": {
      "text/plain": [
       "'/Users/ravina/Desktop/CustomerChurnPrediction'"
      ]
     },
     "execution_count": 4,
     "metadata": {},
     "output_type": "execute_result"
    }
   ],
   "source": [
    "%pwd"
   ]
  },
  {
   "cell_type": "code",
   "execution_count": 5,
   "metadata": {},
   "outputs": [],
   "source": [
    "from dataclasses import dataclass \n",
    "from pathlib import Path\n",
    "\n",
    "@dataclass(frozen=True)  #this is not python class but dataclass, here you can define the veriables without using self keyword.\n",
    "class DataTransformationConfig:\n",
    "    root_dir:Path\n",
    "    data_path: Path"
   ]
  },
  {
   "cell_type": "code",
   "execution_count": 6,
   "metadata": {},
   "outputs": [],
   "source": [
    "from CustomerChurnPrediction.constants import *\n",
    "from CustomerChurnPrediction.utils.common import read_yaml,create_directories"
   ]
  },
  {
   "cell_type": "code",
   "execution_count": 7,
   "metadata": {},
   "outputs": [],
   "source": [
    "class ConfigurationManager:\n",
    "    def __init__(\n",
    "        self,\n",
    "        config_filepath = CONFIG_FILE_PATH,\n",
    "        params_filepath = PARAMS_FILE_PATH,\n",
    "        schema_filepath = SCHEMA_FILE_PATH):\n",
    "\n",
    "        self.config = read_yaml(config_filepath)\n",
    "        self.params = read_yaml(params_filepath)\n",
    "        self.schema = read_yaml(schema_filepath)\n",
    "\n",
    "        create_directories([self.config.artifacts_root])\n",
    "        \n",
    "\n",
    "    def get_data_transformation_config(self)-> DataTransformationConfig:\n",
    "        config=self.config.data_transformation\n",
    "\n",
    "        create_directories([config.root_dir])\n",
    "\n",
    "        data_transformation_config=DataTransformationConfig(\n",
    "            root_dir=config.root_dir,\n",
    "            data_path=config.data_path,\n",
    "\n",
    "        )\n",
    "\n",
    "        return data_transformation_config"
   ]
  },
  {
   "cell_type": "code",
   "execution_count": 8,
   "metadata": {},
   "outputs": [],
   "source": [
    "import os\n",
    "from CustomerChurnPrediction import logger\n",
    "from sklearn.model_selection import train_test_split\n",
    "import pandas as pd \n",
    "from sklearn.preprocessing import StandardScaler,LabelEncoder\n",
    "import imblearn\n",
    "from imblearn.over_sampling import SMOTE\n",
    "\n",
    "\n"
   ]
  },
  {
   "cell_type": "code",
   "execution_count": 9,
   "metadata": {},
   "outputs": [],
   "source": [
    "class DataTransformation:\n",
    "    def __init__(self, config: DataTransformationConfig):\n",
    "        self.config = config\n",
    "\n",
    "    def train_test_splitting(self):\n",
    "        df = pd.read_csv(self.config.data_path)\n",
    "        \n",
    "        # Separate the target variable 'Exited'\n",
    "        y = df['Exited']\n",
    "        X=df.drop(['Exited'], axis=1)\n",
    "        \n",
    "        numr = ['CreditScore', 'Age', 'Tenure', 'Balance', 'EstimatedSalary']\n",
    "        catg =['Geography', 'Gender', 'NumOfProducts', 'IsActiveMember', 'sufficient_balance', 'is_CreditScore_low']\n",
    "        \n",
    "        numerical_transformer = StandardScaler()\n",
    "        categoricals= []\n",
    "\n",
    "        # Apply LabelEncoder to each categorical column\n",
    "        for column in catg:\n",
    "            le = LabelEncoder()\n",
    "            X[column] = le.fit_transform(X[column])\n",
    "            categoricals.append((column, le))\n",
    "\n",
    "        \n",
    "        X[numr] = numerical_transformer.fit_transform(X[numr])   # Apply StandardScaler to numerical columns\n",
    "        transformed_df = pd.concat([X[numr], X[catg]], axis=1)   # Concatenate numerical and encoded categorical columns\n",
    "        df_transformed = pd.concat([transformed_df, y], axis=1)   # Concatenate the encoded categorical, scaled numerical and target y.\n",
    "        \n",
    "        train, test = train_test_split(df_transformed, test_size=0.25, random_state=42)   # Split into training and testing sets\n",
    "        smote = SMOTE(sampling_strategy='minority')    # Apply SMOTE to training set\n",
    "        X_train, y_train= smote.fit_resample(train.drop(columns=['Exited']), train['Exited'])\n",
    "        \n",
    "        train_resampled = pd.concat([pd.DataFrame(X_train, columns=train.drop(columns=['Exited']).columns), pd.DataFrame(y_train, columns=['Exited'])], axis=1)\n",
    "        \n",
    "        # Save train and test sets to CSV\n",
    "        train_resampled.to_csv(os.path.join(self.config.root_dir, 'train.csv'), index=False)\n",
    "        test.to_csv(os.path.join(self.config.root_dir, 'test.csv'), index=False)\n",
    "\n",
    "        logger.info(\"Data has been split into training and test sets.\")\n",
    "        logger.info(f\"Training set shape: {train_resampled.shape}\")\n",
    "        logger.info(f\"Test set shape: {test.shape}\")\n",
    "        print(\"columns of X:\",X.columns)\n",
    "        print(\"columns of df_transformed:\",df_transformed.columns)\n",
    "        print(\"Shape of X_train and y_train after appliing smote\", X_train.shape,y_train.shape)\n",
    "        print(\"columns of train_resample:\",train_resampled.columns)"
   ]
  },
  {
   "cell_type": "code",
   "execution_count": 10,
   "metadata": {},
   "outputs": [
    {
     "name": "stdout",
     "output_type": "stream",
     "text": [
      "[2024-04-01 09:50:00,231:INFO:yaml file:config/config.yaml loaded successfully]\n",
      "[2024-04-01 09:50:00,233:INFO:yaml file:params.yaml loaded successfully]\n",
      "[2024-04-01 09:50:00,235:INFO:yaml file:Schema.yaml loaded successfully]\n",
      "[2024-04-01 09:50:00,236:INFO:created directory at:artifacts]\n",
      "[2024-04-01 09:50:00,237:INFO:created directory at:artifacts/data_transformation]\n",
      "columns of X: Index(['Geography', 'Gender', 'NumOfProducts', 'IsActiveMember',\n",
      "       'sufficient_balance', 'is_CreditScore_low', 'CreditScore', 'Age',\n",
      "       'Tenure', 'Balance', 'EstimatedSalary'],\n",
      "      dtype='object')\n",
      "[2024-04-01 09:50:00,378:INFO:Data has been split into training and test sets.]\n",
      "[2024-04-01 09:50:00,378:INFO:Training set shape: (11918, 12)]\n",
      "[2024-04-01 09:50:00,379:INFO:Test set shape: (2500, 12)]\n",
      "columns of df_transformed: Index(['CreditScore', 'Age', 'Tenure', 'Balance', 'EstimatedSalary',\n",
      "       'Geography', 'Gender', 'NumOfProducts', 'IsActiveMember',\n",
      "       'sufficient_balance', 'is_CreditScore_low', 'Exited'],\n",
      "      dtype='object')\n",
      "Shape of X_train and y_train after appliing smote (11918, 11) (11918,)\n",
      "columns of train_resample: Index(['CreditScore', 'Age', 'Tenure', 'Balance', 'EstimatedSalary',\n",
      "       'Geography', 'Gender', 'NumOfProducts', 'IsActiveMember',\n",
      "       'sufficient_balance', 'is_CreditScore_low', 'Exited'],\n",
      "      dtype='object')\n"
     ]
    }
   ],
   "source": [
    "try:\n",
    "    config = ConfigurationManager()\n",
    "    data_transformation_config = config.get_data_transformation_config()\n",
    "    data_transformation = DataTransformation(config=data_transformation_config)\n",
    "    data_transformation.train_test_splitting()\n",
    "except Exception as e:\n",
    "    raise e\n"
   ]
  },
  {
   "cell_type": "code",
   "execution_count": null,
   "metadata": {},
   "outputs": [],
   "source": []
  }
 ],
 "metadata": {
  "kernelspec": {
   "display_name": "Python 3",
   "language": "python",
   "name": "python3"
  },
  "language_info": {
   "codemirror_mode": {
    "name": "ipython",
    "version": 3
   },
   "file_extension": ".py",
   "mimetype": "text/x-python",
   "name": "python",
   "nbconvert_exporter": "python",
   "pygments_lexer": "ipython3",
   "version": "3.10.0"
  }
 },
 "nbformat": 4,
 "nbformat_minor": 2
}
