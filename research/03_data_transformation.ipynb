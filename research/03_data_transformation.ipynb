{
 "cells": [
  {
   "cell_type": "code",
   "execution_count": 1,
   "metadata": {},
   "outputs": [],
   "source": [
    "import os"
   ]
  },
  {
   "cell_type": "code",
   "execution_count": 2,
   "metadata": {},
   "outputs": [
    {
     "data": {
      "text/plain": [
       "'/Users/ravina/Desktop/CustomerChurnPrediction/research'"
      ]
     },
     "execution_count": 2,
     "metadata": {},
     "output_type": "execute_result"
    }
   ],
   "source": [
    "%pwd"
   ]
  },
  {
   "cell_type": "code",
   "execution_count": 3,
   "metadata": {},
   "outputs": [],
   "source": [
    "os.chdir('../')"
   ]
  },
  {
   "cell_type": "code",
   "execution_count": 4,
   "metadata": {},
   "outputs": [
    {
     "data": {
      "text/plain": [
       "'/Users/ravina/Desktop/CustomerChurnPrediction'"
      ]
     },
     "execution_count": 4,
     "metadata": {},
     "output_type": "execute_result"
    }
   ],
   "source": [
    "%pwd"
   ]
  },
  {
   "cell_type": "code",
   "execution_count": 5,
   "metadata": {},
   "outputs": [],
   "source": [
    "from dataclasses import dataclass \n",
    "from pathlib import Path\n",
    "\n",
    "@dataclass(frozen=True)  #this is not python class but dataclass, here you can define the veriables without using self keyword.\n",
    "class DataTransformationConfig:\n",
    "    root_dir:Path\n",
    "    data_path: Path"
   ]
  },
  {
   "cell_type": "code",
   "execution_count": 6,
   "metadata": {},
   "outputs": [],
   "source": [
    "from CustomerChurnPrediction.constants import *\n",
    "from CustomerChurnPrediction.utils.common import read_yaml,create_directories"
   ]
  },
  {
   "cell_type": "code",
   "execution_count": 7,
   "metadata": {},
   "outputs": [],
   "source": [
    "class ConfigurationManager:\n",
    "    def __init__(\n",
    "        self,\n",
    "        config_filepath = CONFIG_FILE_PATH,\n",
    "        params_filepath = PARAMS_FILE_PATH,\n",
    "        schema_filepath = SCHEMA_FILE_PATH):\n",
    "\n",
    "        self.config = read_yaml(config_filepath)\n",
    "        self.params = read_yaml(params_filepath)\n",
    "        self.schema = read_yaml(schema_filepath)\n",
    "\n",
    "        create_directories([self.config.artifacts_root])\n",
    "        \n",
    "\n",
    "    def get_data_transformation_config(self)-> DataTransformationConfig:\n",
    "        config=self.config.data_transformation\n",
    "\n",
    "        create_directories([config.root_dir])\n",
    "\n",
    "        data_transformation_config=DataTransformationConfig(\n",
    "            root_dir=config.root_dir,\n",
    "            data_path=config.data_path,\n",
    "\n",
    "        )\n",
    "\n",
    "        return data_transformation_config"
   ]
  },
  {
   "cell_type": "code",
   "execution_count": 8,
   "metadata": {},
   "outputs": [],
   "source": [
    "import os\n",
    "from CustomerChurnPrediction import logger\n",
    "from sklearn.model_selection import train_test_split\n",
    "import pandas as pd "
   ]
  },
  {
   "cell_type": "code",
   "execution_count": 9,
   "metadata": {},
   "outputs": [],
   "source": [
    "class DataTransformation:\n",
    "    def __init__(self,config:DataTransformationConfig):\n",
    "        self.config=config\n",
    "        ##we can add different datatransformation techniques such as pca,Scarl and all, \n",
    "        ## we can perform all kind of EDA\n",
    "        #probable here we are adding only train test split.\n",
    "\n",
    "    def train_test_splitting(self):\n",
    "            df=pd.read_csv(self.config.data_path)\n",
    "            #df=df1.drop(['Id'],axis=1,inplace=True)\n",
    "\n",
    "            # Handle categorical variables using one-hot encoding\n",
    "            df = pd.get_dummies(df, columns=['Geography', 'Gender', 'Card Type'], dtype=int)\n",
    "            logger.info(\"Categorical columns transformed\")\n",
    "            # Remove irrelevant columns\n",
    "            df = df.drop(['RowNumber', 'CustomerId', 'Surname'], axis=1)\n",
    "            logger.info(\"Unneccessary columns removed\")\n",
    "\n",
    "            train,test=train_test_split(df)\n",
    "\n",
    "            train.to_csv(os.path.join(self.config.root_dir, 'train.csv'),index=False)\n",
    "            test.to_csv(os.path.join(self.config.root_dir, 'test.csv'),index=False)\n",
    "\n",
    "            logger.info(\"splitted data into training and test sets\")\n",
    "            logger.info(train.shape)\n",
    "            logger.info(test.shape)\n",
    "\n",
    "            print(train.shape)\n",
    "            print(test.shape)\n",
    "            #return 'done'\n",
    "            "
   ]
  },
  {
   "cell_type": "code",
   "execution_count": 10,
   "metadata": {},
   "outputs": [
    {
     "name": "stdout",
     "output_type": "stream",
     "text": [
      "[2024-03-13 10:23:11,612:INFO:yaml file:config/config.yaml loaded successfully]\n",
      "[2024-03-13 10:23:11,614:INFO:yaml file:params.yaml loaded successfully]\n",
      "[2024-03-13 10:23:11,616:INFO:yaml file:Schema.yaml loaded successfully]\n",
      "[2024-03-13 10:23:11,618:INFO:created directory at:artifacts]\n",
      "[2024-03-13 10:23:11,619:INFO:created directory at:artifacts/data_transformation]\n",
      "[2024-03-13 10:23:11,659:INFO:Categorical columns transformed]\n",
      "[2024-03-13 10:23:11,661:INFO:Unneccessary columns removed]\n",
      "[2024-03-13 10:23:11,716:INFO:splitted data into training and test sets]\n",
      "[2024-03-13 10:23:11,717:INFO:(7500, 21)]\n",
      "[2024-03-13 10:23:11,717:INFO:(2500, 21)]\n",
      "(7500, 21)\n",
      "(2500, 21)\n"
     ]
    }
   ],
   "source": [
    "try: \n",
    "    config=ConfigurationManager()\n",
    "    data_transformation_config=config.get_data_transformation_config()\n",
    "    data_transformation=DataTransformation(config=data_transformation_config)\n",
    "    data_transformation.train_test_splitting()\n",
    "except Exception as e:\n",
    "    raise e"
   ]
  },
  {
   "cell_type": "code",
   "execution_count": null,
   "metadata": {},
   "outputs": [],
   "source": []
  }
 ],
 "metadata": {
  "kernelspec": {
   "display_name": "Python 3",
   "language": "python",
   "name": "python3"
  },
  "language_info": {
   "codemirror_mode": {
    "name": "ipython",
    "version": 3
   },
   "file_extension": ".py",
   "mimetype": "text/x-python",
   "name": "python",
   "nbconvert_exporter": "python",
   "pygments_lexer": "ipython3",
   "version": "3.1.0"
  }
 },
 "nbformat": 4,
 "nbformat_minor": 2
}
